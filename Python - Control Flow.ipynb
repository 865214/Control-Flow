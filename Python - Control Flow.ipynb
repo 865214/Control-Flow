{
 "cells": [
  {
   "cell_type": "markdown",
   "id": "b289fad6-8972-4909-bd2a-c80ba688784d",
   "metadata": {},
   "source": [
    "# Control Flow"
   ]
  },
  {
   "cell_type": "markdown",
   "id": "04ddbc88-e795-4a39-b8dd-52b1ab99241d",
   "metadata": {},
   "source": [
    "1. Write a Python program to check if a given number is positive or negative."
   ]
  },
  {
   "cell_type": "code",
   "execution_count": 3,
   "id": "c6e6bc85-b1b5-472a-bca8-8f87e05c019c",
   "metadata": {},
   "outputs": [
    {
     "name": "stdin",
     "output_type": "stream",
     "text": [
      "Enter the number:  22\n"
     ]
    }
   ],
   "source": [
    "a = int(input('Enter the number: '))"
   ]
  },
  {
   "cell_type": "code",
   "execution_count": 10,
   "id": "efb3f29c-e386-4427-8046-79c885cff536",
   "metadata": {},
   "outputs": [
    {
     "name": "stdout",
     "output_type": "stream",
     "text": [
      "The number is positive\n"
     ]
    }
   ],
   "source": [
    "if a >= 1:\n",
    "    print('The number is positive')\n",
    "else:\n",
    "    print('The number is negative')"
   ]
  },
  {
   "cell_type": "markdown",
   "id": "7df5f93c-af5d-44f5-969d-0e4396a3aa70",
   "metadata": {},
   "source": [
    "1. Create a variable a which takes the input from the user\n",
    "2. By using conditional statement if any number is positive then it should be greater than 1 or equql positive if these condition is not statisfied then that numbner is negative"
   ]
  },
  {
   "cell_type": "markdown",
   "id": "b02889ed-1ddd-4581-9772-a788ac1ee93f",
   "metadata": {},
   "source": [
    "2. Create a program that determines if a person is eligible to vote based on their age."
   ]
  },
  {
   "cell_type": "code",
   "execution_count": 1,
   "id": "e3739289-4548-404b-811c-17984a183214",
   "metadata": {},
   "outputs": [
    {
     "name": "stdin",
     "output_type": "stream",
     "text": [
      "Enter the age:  18\n"
     ]
    }
   ],
   "source": [
    "a = int(input('Enter the age: '))"
   ]
  },
  {
   "cell_type": "code",
   "execution_count": 2,
   "id": "c9d39ed1-5a45-414f-bd08-f05658662b95",
   "metadata": {},
   "outputs": [
    {
     "name": "stdout",
     "output_type": "stream",
     "text": [
      "The person is eligible for vote\n"
     ]
    }
   ],
   "source": [
    "if a >= 18:\n",
    "    print('The person is eligible for vote')\n",
    "else:\n",
    "    print('The person is not eligible for vote')"
   ]
  },
  {
   "cell_type": "markdown",
   "id": "9b0ccec7-d8f2-45ef-b1e1-1590284e5fdb",
   "metadata": {},
   "source": [
    "1. create a variable a which takes the input from the user \n",
    "2. By using conditional statement if the age is greater or equal to 18 then that person is eligible for vote\n",
    "3. Otherwise that person is not eligible for vote."
   ]
  },
  {
   "cell_type": "markdown",
   "id": "b86d8ee5-7097-4438-8c7a-77516afdbcaa",
   "metadata": {},
   "source": [
    "3. Develop a program to find the maximum of two numbers using if-else statements."
   ]
  },
  {
   "cell_type": "code",
   "execution_count": 3,
   "id": "b02b3f99-5832-4543-ba14-1bdd201628b6",
   "metadata": {},
   "outputs": [
    {
     "name": "stdin",
     "output_type": "stream",
     "text": [
      "Enter the number:  33\n",
      "Enter the number:  22\n"
     ]
    }
   ],
   "source": [
    "a = int(input('Enter the number: '))\n",
    "b = int(input('Enter the number: '))"
   ]
  },
  {
   "cell_type": "code",
   "execution_count": 4,
   "id": "0e36431a-5a3f-4517-bcfb-742d2df7ddb1",
   "metadata": {},
   "outputs": [
    {
     "name": "stdout",
     "output_type": "stream",
     "text": [
      "The number inside variable a is greater than the number inside variable b\n"
     ]
    }
   ],
   "source": [
    "if a > b:\n",
    "    print('The number inside variable a is greater than the number inside variable b')\n",
    "else:\n",
    "    if a < b:\n",
    "        print('The number inside variabe b is greater than the number inside variable a')\n",
    "    else:\n",
    "        print('Both the number are equal')"
   ]
  },
  {
   "cell_type": "markdown",
   "id": "90aedbe6-47f7-4d09-978b-d9dee80f9347",
   "metadata": {},
   "source": [
    "1. Create a variable a and b which takes the input from user \n",
    "2. By using conditional statement if variable a is greater than b then print the variable a is gretaer than the variable b\n",
    "3. In else condition we are mentioning another if condition if variable a is less than the variable b than the variable b is less than the variable a \n",
    "4. If these condition is also not true then both the variables are equal."
   ]
  },
  {
   "cell_type": "markdown",
   "id": "aa055c0b-346b-4ea8-9193-55d53c82c2fa",
   "metadata": {},
   "source": [
    "4. Write a Python script to classify a given year as a leap year or not."
   ]
  },
  {
   "cell_type": "code",
   "execution_count": 9,
   "id": "7d21bdbe-5c26-4b3c-a3f2-3a6f078073ee",
   "metadata": {},
   "outputs": [],
   "source": [
    "def leap_year(num):\n",
    "    if num % 4 == 0:\n",
    "        return 'Leap Year'\n",
    "    else:\n",
    "        return 'Not a leap Year'"
   ]
  },
  {
   "cell_type": "code",
   "execution_count": 13,
   "id": "8ac96ae9-611a-4c17-bf4b-5b420a6ffcd4",
   "metadata": {},
   "outputs": [
    {
     "data": {
      "text/plain": [
       "'Leap Year'"
      ]
     },
     "execution_count": 13,
     "metadata": {},
     "output_type": "execute_result"
    }
   ],
   "source": [
    "leap_year(1992)"
   ]
  },
  {
   "cell_type": "markdown",
   "id": "fff5185f-8122-47fc-bb84-05deb02ed786",
   "metadata": {},
   "source": [
    "1. Create a function called leap_year which takes 1 argument\n",
    "2. Inside the function we are using conditional statement if any year is evenly divisible by 4 then return that year is leap year other wise return not a leap year\n",
    "3. Print the result "
   ]
  },
  {
   "cell_type": "markdown",
   "id": "5064e993-f92d-4bcd-a4ec-08a13e03b859",
   "metadata": {},
   "source": [
    "5. Create a program that checks whether a character is a vowel or a consonant."
   ]
  },
  {
   "cell_type": "code",
   "execution_count": 20,
   "id": "97a60406-6c9b-4ae6-a93c-f0362ea9dfeb",
   "metadata": {},
   "outputs": [],
   "source": [
    "def check_vowels_consonants(word):\n",
    "    for i in word:\n",
    "        if i in 'aeiouAEIOU':\n",
    "            print('Vowels')\n",
    "        else:\n",
    "            print('Consonants')"
   ]
  },
  {
   "cell_type": "code",
   "execution_count": 25,
   "id": "d1689df1-c906-4f6d-a016-3595898774ed",
   "metadata": {},
   "outputs": [],
   "source": [
    "word = 'Python'"
   ]
  },
  {
   "cell_type": "code",
   "execution_count": 27,
   "id": "f9d47da6-0831-45e6-8635-1548070102a0",
   "metadata": {},
   "outputs": [
    {
     "name": "stdout",
     "output_type": "stream",
     "text": [
      "Consonants\n",
      "Consonants\n",
      "Consonants\n",
      "Consonants\n",
      "Vowels\n",
      "Consonants\n"
     ]
    }
   ],
   "source": [
    "check_vowels_consonants(word.lower())"
   ]
  },
  {
   "cell_type": "markdown",
   "id": "c5ffe370-ea41-469d-bedb-5e72d2bfff5a",
   "metadata": {},
   "source": [
    "1. Create a function called check_vowels_consonants which takes 1 arguments.\n",
    "2. If any character in 'aeiou' then that characters are called vowels else consonants\n",
    "3. Print the result "
   ]
  },
  {
   "cell_type": "markdown",
   "id": "c9e90815-0b0a-4850-9ba5-601fa4dae8c0",
   "metadata": {},
   "source": [
    "6. Implement a program to determine whether a given number is even or odd."
   ]
  },
  {
   "cell_type": "code",
   "execution_count": 29,
   "id": "f600335f-9529-4e46-bd50-b7f4ce900950",
   "metadata": {},
   "outputs": [
    {
     "name": "stdin",
     "output_type": "stream",
     "text": [
      "Enter the number:  30\n"
     ]
    }
   ],
   "source": [
    "a = int(input('Enter the number: '))"
   ]
  },
  {
   "cell_type": "code",
   "execution_count": 30,
   "id": "36859668-bf66-43d8-bc84-d986858f7ee4",
   "metadata": {},
   "outputs": [
    {
     "name": "stdout",
     "output_type": "stream",
     "text": [
      "These number is even number\n"
     ]
    }
   ],
   "source": [
    "if a % 2==0:\n",
    "    print('These number is even number')\n",
    "else:\n",
    "    print('These number is odd number')"
   ]
  },
  {
   "cell_type": "markdown",
   "id": "e3abe0cd-1ba0-48aa-bcbc-3e45c5a5d8a7",
   "metadata": {},
   "source": [
    "1. Create a variable a which takes the input from the user\n",
    "2. If any number is evenly divisible by 2 if this is true then these number is even number else print these number is odd number.\n",
    "3. Print the result "
   ]
  },
  {
   "cell_type": "markdown",
   "id": "89435241-312e-4db1-9936-3357f93e639f",
   "metadata": {},
   "source": [
    "7. Write a Python function to calculate the absolute value of a number without using the `abs()` function."
   ]
  },
  {
   "cell_type": "code",
   "execution_count": 26,
   "id": "7c4424c6-1c3e-4b11-909f-d7d3528603fd",
   "metadata": {},
   "outputs": [],
   "source": [
    "a = -4.16"
   ]
  },
  {
   "cell_type": "code",
   "execution_count": 27,
   "id": "e6d0754d-6064-48b5-b872-e0c941748a00",
   "metadata": {},
   "outputs": [],
   "source": [
    "import math\n",
    "b = 0\n",
    "def absolute(num):\n",
    "    if complex(num):\n",
    "        b = math.sqrt(num.real **2 + num.imag **2)\n",
    "        return round(b,2)\n",
    "    \n",
    "    else:\n",
    "        if a < 1:\n",
    "            return -(num)\n",
    "        else:\n",
    "            return num\n",
    "\n",
    "        "
   ]
  },
  {
   "cell_type": "code",
   "execution_count": 28,
   "id": "840e200d-4010-422f-9123-e8d3542a3f2c",
   "metadata": {},
   "outputs": [
    {
     "data": {
      "text/plain": [
       "4.16"
      ]
     },
     "execution_count": 28,
     "metadata": {},
     "output_type": "execute_result"
    }
   ],
   "source": [
    "absolute(a)"
   ]
  },
  {
   "cell_type": "markdown",
   "id": "5ff5b4b5-4200-4b9e-89cc-c202a8f24018",
   "metadata": {},
   "source": [
    "1. Create a variable a which takes the input from the user\n",
    "2. For calulating absolute number we are crating a function called absolute which takes one arguments\n",
    "3. If the user type complex number then it should square real numbers and imaginary numbers as well and take out the square root of both numbers by using math module\n",
    "4. In the else statement we define another if statement that if the number is less than 1 i.e the number is minus then that number will be multiplied by - and then it return the positive number\n",
    "5. If both the condition false then that number will be return as it is."
   ]
  },
  {
   "cell_type": "markdown",
   "id": "4dae9603-745b-434b-9ff7-f933722f00e2",
   "metadata": {},
   "source": [
    "8. Develop a program that determines the largest of three given numbers using if-else statements."
   ]
  },
  {
   "cell_type": "code",
   "execution_count": 11,
   "id": "4cce6d9d-ae18-4784-b288-5833675a47fd",
   "metadata": {},
   "outputs": [],
   "source": [
    "a = 20\n",
    "b = 15\n",
    "c = 12"
   ]
  },
  {
   "cell_type": "code",
   "execution_count": 16,
   "id": "5404aff9-6bfa-4d86-819c-1f483a1dfa12",
   "metadata": {},
   "outputs": [],
   "source": [
    "def largest_number(num1, num2, num3):\n",
    "    if num1 > num2 > num3:\n",
    "        return num1\n",
    "    if num1 < num2 > num3:\n",
    "        return num2\n",
    "    else:\n",
    "        return num3"
   ]
  },
  {
   "cell_type": "code",
   "execution_count": 17,
   "id": "75e5a875-f249-4809-a2bc-4c5936ce355f",
   "metadata": {},
   "outputs": [
    {
     "name": "stdout",
     "output_type": "stream",
     "text": [
      "The largest number is : 20\n"
     ]
    }
   ],
   "source": [
    "print(f\"The largest number is : {largest_number(a, b, c)}\")"
   ]
  },
  {
   "cell_type": "markdown",
   "id": "10481098-a944-42bc-9c2c-a7c910408e50",
   "metadata": {},
   "source": [
    "1. Create a varible a, b and c which takes the input from the user\n",
    "2. Create a function called largest_number which takes the three argument\n",
    "3. By using the conditional statement if num1 greater num2 and num3 if these condition true then return num1\n",
    "4. If num2 is greater than num1 and num3 if these condition statisfy then return num2\n",
    "5. If both the condition false then it will return num3"
   ]
  },
  {
   "cell_type": "markdown",
   "id": "1223ecca-954c-48db-b80f-bec1a03873d8",
   "metadata": {},
   "source": [
    "9. Create a program that checks if a given string is a palindrome."
   ]
  },
  {
   "cell_type": "code",
   "execution_count": 1,
   "id": "a503c372-2ec8-417f-9c01-d4a8b5a62ca3",
   "metadata": {},
   "outputs": [],
   "source": [
    "a = 'rotator'"
   ]
  },
  {
   "cell_type": "code",
   "execution_count": 9,
   "id": "fa91974f-a497-4e0f-b074-46695a3a73d0",
   "metadata": {},
   "outputs": [
    {
     "name": "stdout",
     "output_type": "stream",
     "text": [
      "These string is palindrome\n"
     ]
    }
   ],
   "source": [
    "if a == a[::-1]:\n",
    "    print('These string is palindrome')\n",
    "else:\n",
    "    print('These string is not palindrome')"
   ]
  },
  {
   "cell_type": "markdown",
   "id": "5072ce6d-c59e-46da-9898-1682ac0e30da",
   "metadata": {},
   "source": [
    "1. Create a variable a which takes the input from the user\n",
    "2. By using conditional statement we are checking if the string inside is equal to reverse string of a then these string is palindrome else these string is not palindrome"
   ]
  },
  {
   "cell_type": "markdown",
   "id": "960b7153-785b-4d4a-9cc6-866977c95403",
   "metadata": {},
   "source": [
    "10. Write a Python program to calculate the grade based on a student's score."
   ]
  },
  {
   "cell_type": "code",
   "execution_count": 5,
   "id": "a8b3f74d-44f1-4b84-ae36-c5ccf136c742",
   "metadata": {},
   "outputs": [
    {
     "name": "stdin",
     "output_type": "stream",
     "text": [
      "Enter the student Score:  81\n"
     ]
    }
   ],
   "source": [
    "student_score = int(input('Enter the student Score: '))"
   ]
  },
  {
   "cell_type": "code",
   "execution_count": 6,
   "id": "5f71c771-2e3e-43e2-aba6-e4baf6d41641",
   "metadata": {},
   "outputs": [
    {
     "name": "stdout",
     "output_type": "stream",
     "text": [
      "Grade B\n"
     ]
    }
   ],
   "source": [
    "if student_score > 95:\n",
    "    print('Grade : A+')\n",
    "elif student_score > 90:\n",
    "    print('Grade: A')\n",
    "elif student_score > 80:\n",
    "    print('Grade B')\n",
    "elif student_score > 70:\n",
    "    print('Grade C')\n",
    "else:\n",
    "    print('Fail')"
   ]
  },
  {
   "cell_type": "markdown",
   "id": "9cfc0a67-47c2-418d-8dd0-7ddcb7222630",
   "metadata": {},
   "source": [
    "1. Create a variabe student_score which takes input from the user\n",
    "2. By using conditional statement we are finding grade on the basis of the score\n",
    "3. Print the result"
   ]
  },
  {
   "cell_type": "markdown",
   "id": "efa8973b-e4eb-4fb7-b5cd-4467f64a767a",
   "metadata": {},
   "source": [
    "11. Write a program to find the largest among three numbers using nested if-else statements."
   ]
  },
  {
   "cell_type": "code",
   "execution_count": 7,
   "id": "374c5f66-1a74-40bb-b771-bc698651e68d",
   "metadata": {},
   "outputs": [],
   "source": [
    "a = 20\n",
    "b = 15\n",
    "c = 12"
   ]
  },
  {
   "cell_type": "code",
   "execution_count": 8,
   "id": "8d42b6ca-2258-4d48-94d1-528c9ff08208",
   "metadata": {},
   "outputs": [],
   "source": [
    "def largest_number(num1, num2, num3):\n",
    "    if num1 > num2 > num3:\n",
    "        return num1\n",
    "    if num1 < num2 > num3:\n",
    "        return num2\n",
    "    else:\n",
    "        return num3"
   ]
  },
  {
   "cell_type": "code",
   "execution_count": 9,
   "id": "1d9c54a3-ab7d-442e-80dc-50521cd10bf4",
   "metadata": {},
   "outputs": [
    {
     "name": "stdout",
     "output_type": "stream",
     "text": [
      "The largest number is : 20\n"
     ]
    }
   ],
   "source": [
    "print(f\"The largest number is : {largest_number(a, b, c)}\")"
   ]
  },
  {
   "cell_type": "markdown",
   "id": "472122c4-0c4b-4a35-bbf1-1186bb484ce8",
   "metadata": {},
   "source": [
    "1. Create a varible a, b and c which takes the input from the user\n",
    "2. Create a function called largest_number which takes the three argument\n",
    "3. By using the conditional statement if num1 greater num2 and num3 if these condition true then return num1\n",
    "4. If num2 is greater than num1 and num3 if these condition statisfy then return num2\n",
    "5. If both the condition false then it will return num3"
   ]
  },
  {
   "cell_type": "markdown",
   "id": "15ec7dd2-5681-4a71-af49-f43eb04f6e85",
   "metadata": {},
   "source": [
    "12. Implement a program to determine if a triangle is equilateral, isosceles, or scalene."
   ]
  },
  {
   "cell_type": "code",
   "execution_count": 11,
   "id": "5dbd0068-cd38-457f-9467-dd98669dc5c0",
   "metadata": {},
   "outputs": [],
   "source": [
    "a = 60\n",
    "b = 60\n",
    "c = 60"
   ]
  },
  {
   "cell_type": "code",
   "execution_count": 15,
   "id": "0cf7dc5a-0768-4264-8563-120e7a30f818",
   "metadata": {},
   "outputs": [
    {
     "name": "stdout",
     "output_type": "stream",
     "text": [
      "These triangle is quilateral triangle\n"
     ]
    }
   ],
   "source": [
    "if a == b == c:\n",
    "    print('These triangle is quilateral triangle')\n",
    "elif a == b != c or a == c == b:\n",
    "        print('These triangle isoceles')\n",
    "else:\n",
    "    print('These triangle is scalene')"
   ]
  },
  {
   "cell_type": "markdown",
   "id": "b48dfd3e-40c9-48d3-be8c-b21a6a514d44",
   "metadata": {},
   "source": [
    "1. Create a variable a, b and c which define the angles of the triangle\n",
    "2. By using conditional statement if all sides are equal in a triangle if these condition true then print these triangle is equilateral triangle\n",
    "3. If any two sides are equal in a triangle if these condition true then these trinagle is isoceles triangle.\n",
    "4. If both the condition false then these triangle are called Scalene"
   ]
  },
  {
   "cell_type": "markdown",
   "id": "2ba51a95-19cd-4cea-b8ad-997d31617fe3",
   "metadata": {},
   "source": [
    "13. Develop a program that checks if a year is a leap year and also if it is a century year."
   ]
  },
  {
   "cell_type": "code",
   "execution_count": 22,
   "id": "abeec276-65bd-46f2-ab17-02874be0d765",
   "metadata": {},
   "outputs": [],
   "source": [
    "def century_year(num):\n",
    "    if num % 4 == 0:\n",
    "        if num % 100 == 0:\n",
    "            print('Century Year')\n",
    "    else:\n",
    "        print('Not a Century year')\n",
    "        "
   ]
  },
  {
   "cell_type": "code",
   "execution_count": 23,
   "id": "01c0875c-8f19-478b-94c5-97e068b94cd8",
   "metadata": {},
   "outputs": [
    {
     "name": "stdout",
     "output_type": "stream",
     "text": [
      "Century Year\n"
     ]
    }
   ],
   "source": [
    "century_year(2000)"
   ]
  },
  {
   "cell_type": "markdown",
   "id": "18817117-effb-4a7f-88b7-7f861721804b",
   "metadata": {},
   "source": [
    "1. Create a function called century year which takes the one argument \n",
    "2. If the year is divisible by 4 and also divisible by 100 if these condition is true then that year is an century year or else that year that year is not a century year\n",
    "3. Print the result"
   ]
  },
  {
   "cell_type": "markdown",
   "id": "f32572b6-62f0-4342-bc2d-1d4c487af663",
   "metadata": {},
   "source": [
    "14. Write a Python script to determine if a number is positive, negative, or zero."
   ]
  },
  {
   "cell_type": "code",
   "execution_count": 35,
   "id": "f96da0ae-7d18-44e2-a384-40320b09b4c3",
   "metadata": {},
   "outputs": [
    {
     "name": "stdin",
     "output_type": "stream",
     "text": [
      "Enter the Number:  -1\n"
     ]
    }
   ],
   "source": [
    "a = int(input('Enter the Number: '))"
   ]
  },
  {
   "cell_type": "code",
   "execution_count": 38,
   "id": "e711957c-9599-4686-8814-b5decfc293f5",
   "metadata": {},
   "outputs": [
    {
     "name": "stdout",
     "output_type": "stream",
     "text": [
      "The number is negative\n"
     ]
    }
   ],
   "source": [
    "if a >= 1:\n",
    "    print('The number is positive')\n",
    "elif a < 0:\n",
    "    print('The number is negative')\n",
    "elif a == 0:\n",
    "    print('The number is Zero')"
   ]
  },
  {
   "cell_type": "markdown",
   "id": "9a5cc5fd-8db4-4bd5-a491-446e42695519",
   "metadata": {},
   "source": [
    "1. Create a variable a which takes the input from the user\n",
    "2. By using conditional statement if number is greater than or equal to 1 then that number is positive number\n",
    "3. If any number is less than the value of 0 then that number is an negative number \n",
    "4. If any number equal to 0 then that number is zero "
   ]
  },
  {
   "cell_type": "markdown",
   "id": "93f93328-f1dd-4140-9b04-df76629fc182",
   "metadata": {},
   "source": [
    "15. Create a program to check if a person is a teenager (between 13 and 19 years old)."
   ]
  },
  {
   "cell_type": "code",
   "execution_count": 47,
   "id": "5da313e8-13f2-43e4-aca3-079e645eb81a",
   "metadata": {},
   "outputs": [
    {
     "name": "stdin",
     "output_type": "stream",
     "text": [
      "Enter the age:  17\n"
     ]
    }
   ],
   "source": [
    "a = int(input('Enter the age: '))"
   ]
  },
  {
   "cell_type": "code",
   "execution_count": 48,
   "id": "4e7bdd51-1aa3-4ffc-87bb-8be9d9a9294c",
   "metadata": {},
   "outputs": [
    {
     "name": "stdout",
     "output_type": "stream",
     "text": [
      "These person is a teenager\n"
     ]
    }
   ],
   "source": [
    "if a in range(13, 19):\n",
    "    print('These person is a teenager')\n",
    "else:\n",
    "    print('These person is not a teenager')"
   ]
  },
  {
   "cell_type": "markdown",
   "id": "0f3a4ea9-bfc0-4562-99d6-e460795bcc54",
   "metadata": {},
   "source": [
    "1. Create a variable a which takes the input from the user\n",
    "2. If the user enter the age and it is in the range of 13 to 19 if these condition is true then that person is an teenager or if these condition false then that person is not a teenager\n",
    "3. Print the result"
   ]
  },
  {
   "cell_type": "markdown",
   "id": "2e968be8-81ee-4e8d-8564-78bfe94383fe",
   "metadata": {},
   "source": [
    "16. Develop a program that determines the type of angle based on its measure (acute, obtuse, or right)."
   ]
  },
  {
   "cell_type": "code",
   "execution_count": 55,
   "id": "15878983-bc96-4df2-86c6-becbcc84ac10",
   "metadata": {},
   "outputs": [
    {
     "name": "stdin",
     "output_type": "stream",
     "text": [
      "Enter the angle:  120\n"
     ]
    }
   ],
   "source": [
    "a = int(input('Enter the angle: '))"
   ]
  },
  {
   "cell_type": "code",
   "execution_count": 56,
   "id": "1434fc75-2a71-424b-a847-bfbdb73af45f",
   "metadata": {},
   "outputs": [
    {
     "name": "stdout",
     "output_type": "stream",
     "text": [
      "These angle is obtuse angle\n"
     ]
    }
   ],
   "source": [
    "if 0 < a < 90:\n",
    "    print('These angle is acute angle')\n",
    "elif a > 90 < 180:\n",
    "    print('These angle is obtuse angle')\n",
    "elif a == 90:\n",
    "    print('These angle is right angle')"
   ]
  },
  {
   "cell_type": "markdown",
   "id": "ebe0469f-1739-45e0-9036-02dc8e31f752",
   "metadata": {},
   "source": [
    "1. Create a variable a which takes the value from the user\n",
    "2. If any angle which is greater than 0 degree but less than 90 degree if these condition is true then these angle is called acute angle\n",
    "3. If any angle which is less than 180 degree but greater than 90 degree if these condition is true then these angle is called obtuse angle \n",
    "4. If the angle is equal to 90 degree then these angle is called right angle"
   ]
  },
  {
   "cell_type": "markdown",
   "id": "cbf98a55-fc16-4ce3-a983-865944f31e83",
   "metadata": {},
   "source": [
    "17. Write a Python program to calculate the roots of a quadratic equation."
   ]
  },
  {
   "cell_type": "code",
   "execution_count": 57,
   "id": "cc21e7f2-b6cf-4427-b576-fd4d3fae13d2",
   "metadata": {},
   "outputs": [],
   "source": [
    "a = 1\n",
    "b = -7\n",
    "c = 10"
   ]
  },
  {
   "cell_type": "code",
   "execution_count": 83,
   "id": "46c0d6fc-3223-438c-a633-e0d4e4a67df5",
   "metadata": {},
   "outputs": [
    {
     "name": "stdout",
     "output_type": "stream",
     "text": [
      "roots of quadratic equation is (8.5, 5.5)\n"
     ]
    }
   ],
   "source": [
    "x = 0\n",
    "import math\n",
    "d = (b ** 2) - (4 *a*c)\n",
    "if d == 0:\n",
    "    print('The equation is invalid')\n",
    "elif d !=0:\n",
    "    x = -(b) + math.sqrt(d)/2*a, -(b) - math.sqrt(d)/2 * a\n",
    "    print(f'roots of quadratic equation is {x}')"
   ]
  },
  {
   "cell_type": "markdown",
   "id": "c1ca83ad-9ce5-4da6-9912-2fecd8d18273",
   "metadata": {},
   "source": [
    "1. create a variable a, b and c and takes the input from the user\n",
    "2. Create another variable x which is set them as 0\n",
    "3. By using quadrtactic equation if the ans is 0 then this equation is not valid else we can we can find the quadratic equation by using the formulae\n",
    "4. Print the result"
   ]
  },
  {
   "cell_type": "markdown",
   "id": "f897536e-3779-45a7-ade7-295ba0e759ce",
   "metadata": {},
   "source": [
    "18. Implement a program to determine the day of the week based on a user-provided number (1 for Monday, 2\n",
    "for Tuesday, etc.)."
   ]
  },
  {
   "cell_type": "code",
   "execution_count": 2,
   "id": "7482e35a-2bc7-4a3f-a5a6-fe43b82ba974",
   "metadata": {},
   "outputs": [
    {
     "name": "stdin",
     "output_type": "stream",
     "text": [
      "Enter the number:  3\n"
     ]
    }
   ],
   "source": [
    "days = int(input('Enter the number: '))"
   ]
  },
  {
   "cell_type": "code",
   "execution_count": 4,
   "id": "a9493650-b795-4a0b-97eb-d69104231d8e",
   "metadata": {},
   "outputs": [
    {
     "name": "stdout",
     "output_type": "stream",
     "text": [
      "Wednessday\n"
     ]
    }
   ],
   "source": [
    "if days == 1:\n",
    "    print('Monday')\n",
    "elif days == 2:\n",
    "    print('Tuesday')\n",
    "elif days == 3:\n",
    "    print('Wednessday')\n",
    "elif days == 4:\n",
    "    print('Thursday')\n",
    "elif days == 5:\n",
    "    print('Friday')\n",
    "elif days == 6:\n",
    "    print('Saturday')\n",
    "elif days == 7:\n",
    "    print('Sunday')\n",
    "else:\n",
    "    print('You choose the wrong day')"
   ]
  },
  {
   "cell_type": "markdown",
   "id": "5f3091ff-b5ec-4bbc-8b9f-1abc40f6c813",
   "metadata": {},
   "source": [
    "1. Create a variable a which takes the input from the user \n",
    "2. By using conditional statement if the user enters the number between 1 to 7 if that number condition statisfies then than day will be printed\n",
    "3. If user enter the number more than 7 days then it will printed as you chood the wrong day "
   ]
  },
  {
   "cell_type": "markdown",
   "id": "25043926-e055-4ddb-a90a-8bb29453cc48",
   "metadata": {},
   "source": [
    "19. Create a program that determines if a year is a leap year and also if it is evenly divisible by 400."
   ]
  },
  {
   "cell_type": "code",
   "execution_count": 5,
   "id": "b385710a-c734-4e31-958a-4cf30b78a38b",
   "metadata": {},
   "outputs": [],
   "source": [
    "def leap_year(num):\n",
    "    if num % 4 == 0 and num % 400 == 0:\n",
    "        print('Leap Year')\n",
    "    else:\n",
    "        print('Not a Leap Year')"
   ]
  },
  {
   "cell_type": "code",
   "execution_count": 6,
   "id": "33f393d6-5615-417b-9f07-3bde9f91e7fe",
   "metadata": {},
   "outputs": [
    {
     "name": "stdout",
     "output_type": "stream",
     "text": [
      "Leap Year\n"
     ]
    }
   ],
   "source": [
    "leap_year(2000)"
   ]
  },
  {
   "cell_type": "markdown",
   "id": "549c45c9-5386-414e-9221-c15307f5ad97",
   "metadata": {},
   "source": [
    "1. Create a function leap year which takes one argument \n",
    "2. By using conditional statement if any year is evenly divisible 4 and also from 400 then that year is a leap year\n",
    "3. Otherwise it is not a leap year."
   ]
  },
  {
   "cell_type": "markdown",
   "id": "00eb4152-e40f-4bd6-a3cb-e2d12e878675",
   "metadata": {},
   "source": [
    "20. Develop a program that checks if a given number is prime or not using nested if-else statements."
   ]
  },
  {
   "cell_type": "code",
   "execution_count": 31,
   "id": "be55b670-6250-4416-bd9b-f0b6170fd643",
   "metadata": {},
   "outputs": [],
   "source": [
    "def is_prime(num):\n",
    "    is_prime = True\n",
    "    for i in range(2,num):\n",
    "        if num % i == 0:\n",
    "            is_prime = False\n",
    "    if is_prime:\n",
    "        print('These is an prime number')\n",
    "    else:\n",
    "        print('These is not a prime number')"
   ]
  },
  {
   "cell_type": "code",
   "execution_count": 32,
   "id": "c8fc2f7e-d4a1-41a9-b341-2fe2dec92a1c",
   "metadata": {},
   "outputs": [
    {
     "name": "stdout",
     "output_type": "stream",
     "text": [
      "These is an prime number\n"
     ]
    }
   ],
   "source": [
    "is_prime(2)"
   ]
  },
  {
   "cell_type": "markdown",
   "id": "c032bca9-6adb-4c2a-8462-fa6cadb7260a",
   "metadata": {},
   "source": [
    "1. Create a function called is_prime which takes 1 argument from the user\n",
    "2. By using for loop which is in the range of 2 to number which takes an input from the user\n",
    "3. If any number will be divide and that number having remainder 0 then that number is not prime number\n",
    "4. If any number which does not have the remainder 0 then that number is an prime number "
   ]
  },
  {
   "cell_type": "markdown",
   "id": "38757a63-566a-4068-a35d-0a811f22458f",
   "metadata": {},
   "source": [
    "21. Write a Python program to assign grades based on different ranges of scores using elif statements."
   ]
  },
  {
   "cell_type": "code",
   "execution_count": 18,
   "id": "bf9e6b91-33c5-4c2e-95d3-9febed4e8a34",
   "metadata": {},
   "outputs": [],
   "source": [
    "student_score  = {'Rahul' : 70, 'Seema' : 60, 'Ravi' : 90, 'Rajesh' : 86}"
   ]
  },
  {
   "cell_type": "code",
   "execution_count": 19,
   "id": "7e2dec4c-0bcd-438d-a554-48480f3e0a76",
   "metadata": {},
   "outputs": [],
   "source": [
    "for i in student_score:\n",
    "    if student_score[i] >= 90:\n",
    "        student_score[i] = 'A'\n",
    "    elif 80 <= student_score[i] < 90:\n",
    "        student_score[i] = 'B'\n",
    "    elif 70 <= student_score[i] < 80:\n",
    "        student_score[i] = 'C'\n",
    "    elif 60 < student_score[i] < 70:\n",
    "        student_score[i] = 'D'\n",
    "    else:\n",
    "        student_score[i] = 'F'\n",
    "    "
   ]
  },
  {
   "cell_type": "code",
   "execution_count": 20,
   "id": "829ee35a-9756-4cc8-98b4-c6abe476614c",
   "metadata": {},
   "outputs": [
    {
     "name": "stdout",
     "output_type": "stream",
     "text": [
      "{'Rahul': 'C', 'Seema': 'F', 'Ravi': 'A', 'Rajesh': 'B'}\n"
     ]
    }
   ],
   "source": [
    "print(student_score)"
   ]
  },
  {
   "cell_type": "markdown",
   "id": "a3f3fc88-757f-4e9e-8db0-b0194efb20ba",
   "metadata": {},
   "source": [
    "1. Create a dictionary called student score inside the dictionary we have created a key of student name and value there score.\n",
    "2. By using for loop it will iterating through all the keys inside the dictionary student_score\n",
    "3. By tapping into the value we are checking the score of different ranges and then as per the ranges we are replacing score in place of grades\n",
    "4. Print the result "
   ]
  },
  {
   "cell_type": "markdown",
   "id": "c5096485-ade3-4269-b31f-37f90f2114ce",
   "metadata": {},
   "source": [
    "22. Implement a program to determine the type of a triangle based on its angles."
   ]
  },
  {
   "cell_type": "code",
   "execution_count": 21,
   "id": "8485692d-75a6-41b0-868f-935bab8e1d05",
   "metadata": {},
   "outputs": [
    {
     "name": "stdin",
     "output_type": "stream",
     "text": [
      "Enter the angle:  40\n"
     ]
    }
   ],
   "source": [
    "angle = int(input('Enter the angle: '))"
   ]
  },
  {
   "cell_type": "code",
   "execution_count": 23,
   "id": "d7973c9e-f6ed-4a3f-bd32-60a8f94072e5",
   "metadata": {},
   "outputs": [
    {
     "name": "stdout",
     "output_type": "stream",
     "text": [
      "These triangle is acute angle triangle\n"
     ]
    }
   ],
   "source": [
    "if 0 < angle < 90:\n",
    "    print('These triangle is acute angle triangle')\n",
    "elif 90 < angle < 180:\n",
    "    print('These triangle is obtuse angle triangle')\n",
    "elif a == 90:\n",
    "    print('These triangle is right angle triangle')"
   ]
  },
  {
   "cell_type": "markdown",
   "id": "7247b94c-fd68-4e61-9478-632ad64f39f8",
   "metadata": {},
   "source": [
    "1. Create a variable called angle which takes the input from the user\n",
    "2. If any angle is greater than 0 but less than 90 degree these triangle is called acute angle triangle\n",
    "3. If any angle is greater than 90 but less than 180 degree these triangle is called obtuse angle triangle \n",
    "4. If any angle is equal to 90 degree then that triangle is called right angle triangle "
   ]
  },
  {
   "cell_type": "markdown",
   "id": "1130779d-d513-43f2-95b8-1a8297ec0849",
   "metadata": {},
   "source": [
    "23. Develop a program to categorize a given person's BMI into underweight, normal, overweight, or obese using\n",
    "elif statements."
   ]
  },
  {
   "cell_type": "code",
   "execution_count": 28,
   "id": "dd262c61-13e8-49f8-a697-09d7cc761385",
   "metadata": {},
   "outputs": [
    {
     "name": "stdin",
     "output_type": "stream",
     "text": [
      "Enter the BMI:  25.6\n"
     ]
    }
   ],
   "source": [
    "a = float(input('Enter the BMI: '))"
   ]
  },
  {
   "cell_type": "code",
   "execution_count": 29,
   "id": "6bd61bb9-a05e-4602-a8f7-9470713977c6",
   "metadata": {},
   "outputs": [
    {
     "name": "stdout",
     "output_type": "stream",
     "text": [
      "Overweight\n"
     ]
    }
   ],
   "source": [
    "if a < 18.5:\n",
    "    print('underweight')\n",
    "elif 18.5 <= a < 25:\n",
    "    print('Normal Weight')\n",
    "elif 25 < a < 30:\n",
    "    print('Overweight')\n",
    "else:\n",
    "    print('Obese')"
   ]
  },
  {
   "cell_type": "markdown",
   "id": "0ba634d6-1859-43cd-8abf-c822220002cd",
   "metadata": {},
   "source": [
    "1. Create a variable a which takes the input from the user which is in float\n",
    "2. By using conditional statement if the person is below 18.5 BMI than that person is underwight \n",
    "3. If the person is less than or equal to 18.5 but less than 25 BMI than that person is having Normal Weight\n",
    "4. If the person is having more than 25 BMI but less than 30 BMI than that person is having Overweight\n",
    "5. Else if any of these condition is not true then that person is obese"
   ]
  },
  {
   "cell_type": "markdown",
   "id": "97ad426e-772b-417a-b415-febe01519b15",
   "metadata": {},
   "source": [
    "24. Create a program that determines whether a given number is positive, negative, or zero using elif\n",
    "statements."
   ]
  },
  {
   "cell_type": "code",
   "execution_count": 30,
   "id": "675b6693-b333-4263-b6fb-eae7878f4c53",
   "metadata": {},
   "outputs": [
    {
     "name": "stdin",
     "output_type": "stream",
     "text": [
      "Enter the number:  -1 \n"
     ]
    }
   ],
   "source": [
    "a = int(input('Enter the number: '))"
   ]
  },
  {
   "cell_type": "code",
   "execution_count": 31,
   "id": "31270f5b-ff10-4c5a-be91-3d232a6cc19e",
   "metadata": {},
   "outputs": [
    {
     "name": "stdout",
     "output_type": "stream",
     "text": [
      "The number is negative\n"
     ]
    }
   ],
   "source": [
    "if a >= 1:\n",
    "    print('The number is positive')\n",
    "elif a < 0:\n",
    "    print('The number is negative')\n",
    "elif a == 0:\n",
    "    print('The number is Zero')"
   ]
  },
  {
   "cell_type": "markdown",
   "id": "86c341bf-1f3a-4fb1-a931-82a6c0b2a5d9",
   "metadata": {},
   "source": [
    "1. Create a variable a which takes the input from the user \n",
    "2. By using conditional statement if the number is greater than or equal to 1 then that number is positive\n",
    "3. If any number is less than 0 then that number is negative\n",
    "4. If any number is equal to 0 then that number is zero"
   ]
  },
  {
   "cell_type": "markdown",
   "id": "2ed172a0-a87d-43bc-9357-0dd03c2abb90",
   "metadata": {},
   "source": [
    "25. Write a Python script to determine the type of a character (uppercase, lowercase, or special) using elif\n",
    "statements."
   ]
  },
  {
   "cell_type": "code",
   "execution_count": 38,
   "id": "ed3b0c07-2fc1-49a0-b5a5-42c32d9e8057",
   "metadata": {},
   "outputs": [
    {
     "name": "stdin",
     "output_type": "stream",
     "text": [
      "Enter the word:   Python@#$\n"
     ]
    }
   ],
   "source": [
    "a = input('Enter the word:  ')\n",
    "b = list(a)"
   ]
  },
  {
   "cell_type": "code",
   "execution_count": 40,
   "id": "b1b4f2a0-1ee3-480e-b618-d1de630b5352",
   "metadata": {},
   "outputs": [
    {
     "name": "stdout",
     "output_type": "stream",
     "text": [
      "P: uppercase\n",
      "y: lowercase\n",
      "t: lowercase\n",
      "h: lowercase\n",
      "o: lowercase\n",
      "n: lowercase\n",
      "@: special character\n",
      "#: special character\n",
      "$: special character\n"
     ]
    }
   ],
   "source": [
    "for i in b:\n",
    "    if i.isupper():\n",
    "        print(f\"{i}: uppercase\")\n",
    "    elif i.islower():\n",
    "        print(f\"{i}: lowercase\")\n",
    "    elif i in '@#$%&*':\n",
    "        print(f'{i}: special character')"
   ]
  },
  {
   "cell_type": "markdown",
   "id": "66186975-15d2-4b69-9acb-639cb9c35fef",
   "metadata": {},
   "source": [
    "1. Creating a variable a which takes the input from the user in string data type\n",
    "2. Creating another b which convert the string into the list \n",
    "3. By using for loop it will iterate through all the characters inside b and store the value inside i\n",
    "4. By using conditional statement we are checking if that character is uppercase if its true that character will be printed and show the type uppercase character\n",
    "5. If that character is lowercase if its true that character will be printed and show the type lowercase character\n",
    "6. If any character in special character then that character and special character will be printed "
   ]
  },
  {
   "cell_type": "markdown",
   "id": "f85f03e1-c706-4d55-bd31-215daaf5f147",
   "metadata": {},
   "source": [
    "26. Implement a program to calculate the discounted price based on different purchase amounts using elif\n",
    "statements."
   ]
  },
  {
   "cell_type": "code",
   "execution_count": 43,
   "id": "9f0ef192-9d80-4051-a337-4a05ab12747b",
   "metadata": {},
   "outputs": [
    {
     "name": "stdin",
     "output_type": "stream",
     "text": [
      "Enter the purchase Amount: $ 100\n"
     ]
    }
   ],
   "source": [
    "amount = int(input('Enter the purchase Amount: $'))"
   ]
  },
  {
   "cell_type": "code",
   "execution_count": 50,
   "id": "55a4af12-4fe9-4c7e-b3ac-b7e7abcf16cc",
   "metadata": {},
   "outputs": [
    {
     "name": "stdout",
     "output_type": "stream",
     "text": [
      " Apply 20% discount. Your total amount would be $80.0\n"
     ]
    }
   ],
   "source": [
    "if amount <= 50:\n",
    "    print(f\" Apply 5% discount. Your total amount would be ${amount - (amount * (5/100))}\")\n",
    "elif 50 < amount <= 70:\n",
    "    print(f\" Apply 10% discount. Your total amount would be ${amount - (amount * (10/100))}\")\n",
    "elif 80 <= amount < 90:\n",
    "    print(f\" Apply 15% discount. Your total amount would be ${amount - (amount * (15/100))}\")\n",
    "elif amount > 90:\n",
    "    print(f\" Apply 20% discount. Your total amount would be ${amount - (amount * (20/100))}\")"
   ]
  },
  {
   "cell_type": "markdown",
   "id": "2adcbc68-cb98-48d6-9905-cb6be0562b85",
   "metadata": {},
   "source": [
    "1. Create a variale called amount which they enter from the user\n",
    "2. By using conditional statement if amount is less than 50 dollar then we apply the discount of 5%\n",
    "3. If the amount is greater than 50 dollar or less or equal to 70 dollar then we apply the discount of 10%\n",
    "4. If the amount is greater or equal to 80 dollar or less than 90 dollar then we apply discount of 15%\n",
    "5. If the amount the is greater than 90 dollar than we appply thr discount of 20%"
   ]
  },
  {
   "cell_type": "markdown",
   "id": "0dcf98fd-a129-4628-a444-c984d1d1a18b",
   "metadata": {},
   "source": [
    "27. Develop a program to calculate the electricity bill based on different consumption slabs using elif\n",
    "statements."
   ]
  },
  {
   "cell_type": "code",
   "execution_count": 55,
   "id": "50ac8cd7-2564-4987-9796-1547adadea64",
   "metadata": {},
   "outputs": [
    {
     "name": "stdin",
     "output_type": "stream",
     "text": [
      "Enter the unit:  600\n"
     ]
    }
   ],
   "source": [
    "unit = int(input(\"Enter the unit: \"))"
   ]
  },
  {
   "cell_type": "code",
   "execution_count": 57,
   "id": "54be2704-97a3-4a9c-bd5e-c4c48954f8c9",
   "metadata": {},
   "outputs": [
    {
     "name": "stdout",
     "output_type": "stream",
     "text": [
      "Your total elctricity bill will be Rs.4800\n"
     ]
    }
   ],
   "source": [
    "if 400 < unit <= 500:\n",
    "    print(f'Your total electricity bill will be Rs.{6.50 * unit}')\n",
    "elif 500 < unit <= 600:\n",
    "    print(f'Your total elctricity bill will be Rs.{8 * unit}')\n",
    "elif 600 < unit <= 800:\n",
    "    print(f'Your total elctricity bill will be Rs.{9 * unit}')\n",
    "elif 800 < unit <= 1000:\n",
    "    print(f'Your total elctricity bill will be Rs.{10 * unit}')\n",
    "else:\n",
    "    print(f'Your total elctricity bill will be Rs.{11 * unit}')\n",
    "    "
   ]
  },
  {
   "cell_type": "markdown",
   "id": "1c38fdf3-f4fd-481d-a6c9-51d9aa8c0a7f",
   "metadata": {},
   "source": [
    "1. Create a variable called unit which takes the input from the user\n",
    "2. By using conditional statement if unit is greater than 400 but less than or equal to 500 then it the total amount will be multiplied by Rs.6.50\n",
    "3. If unit is greater than 500 but less than or equal to 600 then it the total amount will be multiplied by Rs.8\n",
    "4. If unit is greater than 600 but less than or equal to 800 then it the total amount will be multiplied by Rs.9\n",
    "5. If unit is greater than 800 but less than or equal to 1000 then it the total amount will be multiplied by Rs.10\n",
    "6. If none of the condition is true then that number will be multiplied by Rs.11"
   ]
  },
  {
   "cell_type": "markdown",
   "id": "6de76fd7-0475-4efb-9a77-5e8ea00b07f3",
   "metadata": {},
   "source": [
    "28. Create a program to determine the type of quadrilateral based on its angles and sides using elif\n",
    "statements."
   ]
  },
  {
   "cell_type": "code",
   "execution_count": 54,
   "id": "b9dc49d8-9578-4fea-b36a-832c25377ed3",
   "metadata": {},
   "outputs": [
    {
     "name": "stdin",
     "output_type": "stream",
     "text": [
      "Enter the 1st side:  1\n",
      "Enter the 2nd side:  1\n",
      "Enter the 3rd side:  1\n",
      "Enter the 4th side:  1\n",
      "Enter the 1st angle:  90\n",
      "Enter the 2nd angle:  90\n",
      "Enter the 3rd angle:  90\n",
      "Enter the 4th angle:  90\n"
     ]
    }
   ],
   "source": [
    "side_1 = int(input('Enter the 1st side: '))\n",
    "side_2 = int(input('Enter the 2nd side: '))\n",
    "side_3 = int(input('Enter the 3rd side: '))\n",
    "side_4 = int(input('Enter the 4th side: '))\n",
    "angle_1 = int(input('Enter the 1st angle: '))\n",
    "angle_2 = int(input('Enter the 2nd angle: '))\n",
    "angle_3 = int(input('Enter the 3rd angle: '))\n",
    "angle_4 = int(input('Enter the 4th angle: '))"
   ]
  },
  {
   "cell_type": "code",
   "execution_count": 55,
   "id": "1647dc97-c48e-4dbe-a458-c6f9d2e78602",
   "metadata": {},
   "outputs": [
    {
     "name": "stdout",
     "output_type": "stream",
     "text": [
      "It is a square\n"
     ]
    }
   ],
   "source": [
    "if side_1 == side_2 == side_3 == side_4 and angle_1 == 90 and angle_2 == 90 and angle_3 == 90 and angle_4 == 90:\n",
    "    print('It is a square')\n",
    "elif side_1 == side_2 and side_3 == side_4 and angle_1 == 90 and angle_2 == 90 and angle_3 == 90 and angle_4 == 90:\n",
    "    print('It is a rectangle')\n",
    "    "
   ]
  },
  {
   "cell_type": "markdown",
   "id": "5f60c9e3-0319-4db4-8d98-165e916953f2",
   "metadata": {},
   "source": [
    "1. Create a sides variable which take input from the user\n",
    "2. Create a angle variable which takes input from the user\n",
    "3. As per the input which we will taken from the user it will either the quad"
   ]
  },
  {
   "cell_type": "markdown",
   "id": "74320e8a-3e8f-4d2d-bdbc-b0164cc8dc23",
   "metadata": {},
   "source": [
    "29. Write a Python script to determine the season based on a user-provided month using elif statements."
   ]
  },
  {
   "cell_type": "code",
   "execution_count": 58,
   "id": "c757a277-369e-4705-bf4a-c5febd10af54",
   "metadata": {},
   "outputs": [
    {
     "name": "stdin",
     "output_type": "stream",
     "text": [
      "Enter the month:  january\n"
     ]
    }
   ],
   "source": [
    "month = input('Enter the month: ').lower()"
   ]
  },
  {
   "cell_type": "code",
   "execution_count": 61,
   "id": "2266e599-227a-4073-8845-5512224fad94",
   "metadata": {},
   "outputs": [
    {
     "name": "stdout",
     "output_type": "stream",
     "text": [
      "Winter Season\n"
     ]
    }
   ],
   "source": [
    "if month == 'december':\n",
    "    print('Winter Season')\n",
    "elif month == 'january':\n",
    "    print('Winter Season')\n",
    "elif month == 'february':\n",
    "    print('Winter Season')\n",
    "elif month == 'march':\n",
    "    print('Summer Season')\n",
    "elif month == 'april':\n",
    "    print('Summer Season')\n",
    "elif month == 'May':\n",
    "    print('Summer Season')\n",
    "elif month == 'june':\n",
    "    print('Rainy Season')\n",
    "elif month == 'july':\n",
    "    print('Rainy Season')\n",
    "elif month == 'august':\n",
    "    print('Rainy Season')\n",
    "elif month == 'september':\n",
    "    print('Rainy Season')\n",
    "elif month == 'october':\n",
    "    print('Autumn Season')\n",
    "elif month == 'november':\n",
    "    print('autumn Season')\n",
    "else:\n",
    "    print('You have entered the wrong month')\n",
    " "
   ]
  },
  {
   "cell_type": "markdown",
   "id": "6410d324-9296-469f-9e94-47d4b6409c20",
   "metadata": {},
   "source": [
    "1. Create a variable month which takes the input from the user\n",
    "2. If user type month from december to february then it will be printed as winter season\n",
    "3. If user type month from March to may then it will be printed as summer season\n",
    "4. If user type month from june to september then it will be printed as rainy season\n",
    "5. If user type month of october and november then it will be printed as autumn season"
   ]
  },
  {
   "cell_type": "markdown",
   "id": "82bdf156-4b66-443b-8cbf-c2eef32f69b0",
   "metadata": {},
   "source": [
    "30. Implement a program to determine the type of a year (leap or common) and month (30 or 31 days) using\n",
    "elif statements."
   ]
  },
  {
   "cell_type": "code",
   "execution_count": 32,
   "id": "9c5a0b2a-0ce9-4d80-ba4d-5d3f82db944e",
   "metadata": {},
   "outputs": [
    {
     "name": "stdin",
     "output_type": "stream",
     "text": [
      "Enter the year:  2020\n",
      "Enter the month:  4\n"
     ]
    }
   ],
   "source": [
    "year = int(input('Enter the year: '))\n",
    "month = int(input('Enter the month: '))"
   ]
  },
  {
   "cell_type": "code",
   "execution_count": 35,
   "id": "0a1dd7a5-7cd9-4385-b4b8-e1ef822a59c5",
   "metadata": {},
   "outputs": [
    {
     "name": "stdout",
     "output_type": "stream",
     "text": [
      "Leap year\n",
      "Number of days is 30 days\n"
     ]
    }
   ],
   "source": [
    "if year % 4 == 0:\n",
    "    print('Leap year')\n",
    "    if month == 2:\n",
    "        print('Number of days is 29 days')\n",
    "if month == 1 or month == 3 or month == 5 or month == 7 or month == 8 or month == 10 or month == 12:\n",
    "    print('Number of days is 31 days')\n",
    "elif month == 4 or month == 6 or month == 9 or month == 11:\n",
    "    print('Number of days is 30 days')\n",
    "else:\n",
    "    print('common year')\n",
    "    if month == 2:\n",
    "        print('Number of days is 28 days')\n"
   ]
  },
  {
   "cell_type": "markdown",
   "id": "ff0876e3-e603-4598-981a-39716139f997",
   "metadata": {},
   "source": [
    "1. Create a variable year and month whixh takes the input from the user\n",
    "2. If year is cleanly divisible by 4 then that year is leap year and user enter the month is 2 then that month having the number of days is 29.\n",
    "3. If we are using another if statement to check if the current month is having number of days 30 or 31\n",
    "4. Else if these condition is not true then that year is an common year"
   ]
  },
  {
   "cell_type": "markdown",
   "id": "b42b3d1b-24b4-4edf-869a-03e5dd65a829",
   "metadata": {},
   "source": [
    "31. Write a Python program that checks if a given number is positive, negative, or zero."
   ]
  },
  {
   "cell_type": "code",
   "execution_count": 36,
   "id": "606a43f1-09f5-40f2-91c2-c8244ecda2ff",
   "metadata": {},
   "outputs": [
    {
     "name": "stdin",
     "output_type": "stream",
     "text": [
      "Enter the number:  -1\n"
     ]
    }
   ],
   "source": [
    "a = int(input('Enter the number: '))"
   ]
  },
  {
   "cell_type": "code",
   "execution_count": 37,
   "id": "b46b1b9c-2d08-45f9-b30a-3560a5647657",
   "metadata": {},
   "outputs": [
    {
     "name": "stdout",
     "output_type": "stream",
     "text": [
      "The number is negative\n"
     ]
    }
   ],
   "source": [
    "if a >= 1:\n",
    "    print('The number is positive')\n",
    "elif a < 0:\n",
    "    print('The number is negative')\n",
    "elif a == 0:\n",
    "    print('The number is Zero')"
   ]
  },
  {
   "cell_type": "markdown",
   "id": "04dd830f-98f5-47bb-9bec-cd6c228860a8",
   "metadata": {},
   "source": [
    "1. Create a variable a which takes the input from the user \n",
    "2. By using conditional statement if the number is greater than or equal to 1 then that number is positive\n",
    "3. If any number is less than 0 then that number is negative\n",
    "4. If any number is equal to 0 then that number is zero"
   ]
  },
  {
   "cell_type": "markdown",
   "id": "c4cb7989-517d-4d9a-b917-d77435346eb3",
   "metadata": {},
   "source": [
    "32. Create a program to determine if a person is eligible to vote based on their age."
   ]
  },
  {
   "cell_type": "code",
   "execution_count": 39,
   "id": "4a3c4b78-2aaf-43c2-9277-df1c07bd4b8b",
   "metadata": {},
   "outputs": [
    {
     "name": "stdin",
     "output_type": "stream",
     "text": [
      "Enter the age:  18\n"
     ]
    }
   ],
   "source": [
    "a = int(input('Enter the age: '))"
   ]
  },
  {
   "cell_type": "code",
   "execution_count": 42,
   "id": "8eaf63ea-dc5b-4554-9242-b2f396df18ce",
   "metadata": {},
   "outputs": [
    {
     "name": "stdout",
     "output_type": "stream",
     "text": [
      "The person is eligible for vote\n"
     ]
    }
   ],
   "source": [
    "if a >= 18:\n",
    "    print(\"The person is eligible for vote\")\n",
    "else:\n",
    "    print(\"The person is not eligible for vote\")"
   ]
  },
  {
   "cell_type": "markdown",
   "id": "82d913f3-3509-4d69-9065-f887c13346c0",
   "metadata": {},
   "source": [
    "1. Create a variable a which takes the input from the user\n",
    "2. If the person age is greater than 18 years than that person is eligible for vote\n",
    "3. Else that person is not eligible for vote"
   ]
  },
  {
   "cell_type": "markdown",
   "id": "4323cd0e-af85-4188-b2ca-3fe3120ebf90",
   "metadata": {},
   "source": [
    "33. Write a program to find the maximum of two given numbers using conditional statements."
   ]
  },
  {
   "cell_type": "code",
   "execution_count": 43,
   "id": "03daf9b3-ebdf-43d4-a0d3-7e47e43ff3ca",
   "metadata": {},
   "outputs": [
    {
     "name": "stdin",
     "output_type": "stream",
     "text": [
      "Enter the number:  22\n",
      "Enter the number:  11\n"
     ]
    }
   ],
   "source": [
    "a = int(input('Enter the number: '))\n",
    "b = int(input('Enter the number: '))"
   ]
  },
  {
   "cell_type": "code",
   "execution_count": 45,
   "id": "b6010f74-f0d0-4e32-9876-06a1c8e582b2",
   "metadata": {},
   "outputs": [
    {
     "name": "stdout",
     "output_type": "stream",
     "text": [
      "The number 22 is maximum number\n"
     ]
    }
   ],
   "source": [
    "if a > b:\n",
    "    print(f'The number {a} is maximum number')\n",
    "else:\n",
    "    print(f'The number {b} is maximu number')"
   ]
  },
  {
   "cell_type": "markdown",
   "id": "78043566-b3fc-426e-ac80-c12e5d788355",
   "metadata": {},
   "source": [
    "1. Create a variable a and b which takes the input from the user\n",
    "2. If the number inside variable a is greater than the number inside variable b then the varaible inside a is maximum\n",
    "3. Else the number inside variable a is less than number inside variable b then the variable inside b is maximum"
   ]
  },
  {
   "cell_type": "markdown",
   "id": "6c36ffe1-17ad-4107-a65e-985e4a91f2ab",
   "metadata": {},
   "source": [
    "34. Develop a program that calculates the grade of a student based on their exam score."
   ]
  },
  {
   "cell_type": "code",
   "execution_count": 46,
   "id": "74eb2d86-3f12-434f-afd4-259f1b0ba144",
   "metadata": {},
   "outputs": [],
   "source": [
    "student_score  = {'Rahul' : 70, 'Seema' : 60, 'Ravi' : 90, 'Rajesh' : 86}"
   ]
  },
  {
   "cell_type": "code",
   "execution_count": 47,
   "id": "95118746-ea49-4a4f-9261-e2b546471f78",
   "metadata": {},
   "outputs": [],
   "source": [
    "for i in student_score:\n",
    "    if student_score[i] >= 90:\n",
    "        student_score[i] = 'A'\n",
    "    elif 80 <= student_score[i] < 90:\n",
    "        student_score[i] = 'B'\n",
    "    elif 70 <= student_score[i] < 80:\n",
    "        student_score[i] = 'C'\n",
    "    elif 60 < student_score[i] < 70:\n",
    "        student_score[i] = 'D'\n",
    "    else:\n",
    "        student_score[i] = 'F'"
   ]
  },
  {
   "cell_type": "code",
   "execution_count": 48,
   "id": "972f9698-45ee-4c53-b78c-e0b613f9d7fa",
   "metadata": {},
   "outputs": [
    {
     "name": "stdout",
     "output_type": "stream",
     "text": [
      "{'Rahul': 'C', 'Seema': 'F', 'Ravi': 'A', 'Rajesh': 'B'}\n"
     ]
    }
   ],
   "source": [
    "print(student_score)"
   ]
  },
  {
   "cell_type": "markdown",
   "id": "90082f99-b80b-4eb4-a6c9-54d9a35276e5",
   "metadata": {},
   "source": [
    "1. Create a dictionary called student score inside the dictionary we have created a key of student name and value there score.\n",
    "2. By using for loop it will iterating through all the keys inside the dictionary student_score\n",
    "3. By tapping into the value we are checking the score of different ranges and then as per the ranges we are replacing score in place of grades\n",
    "4. Print the result "
   ]
  },
  {
   "cell_type": "markdown",
   "id": "bbca3047-578c-4080-b8b9-473a791eef43",
   "metadata": {},
   "source": [
    "35. Create a program that checks if a year is a leap year or not."
   ]
  },
  {
   "cell_type": "code",
   "execution_count": 49,
   "id": "5c4f6f93-f8c9-410c-889e-003cd22953b6",
   "metadata": {},
   "outputs": [
    {
     "name": "stdin",
     "output_type": "stream",
     "text": [
      "Enter the year:  1992\n"
     ]
    }
   ],
   "source": [
    "a = int(input('Enter the year: '))"
   ]
  },
  {
   "cell_type": "code",
   "execution_count": 50,
   "id": "ea47e382-48b0-4300-a0e9-6235e8267a9f",
   "metadata": {},
   "outputs": [
    {
     "name": "stdout",
     "output_type": "stream",
     "text": [
      "Leap year\n"
     ]
    }
   ],
   "source": [
    "if year % 4 == 0:\n",
    "    if year % 100 == 0:\n",
    "        if year % 400 == 0:\n",
    "            print('Leap Year')\n",
    "        else:\n",
    "            print('Not a leap year')\n",
    "    else:\n",
    "        print('Leap year')\n",
    "else:\n",
    "    print('Not a Leap Year')"
   ]
  },
  {
   "cell_type": "markdown",
   "id": "b70b8706-c634-4f45-8c42-37bd81609056",
   "metadata": {},
   "source": [
    "1. Create a variable year which takes the input from the user\n",
    "2. By using xonditional statement if any year is evenly divisible by and evenly divisble by 400 than that year is leap year otherwise if year is evenly divisible by 100 then that year is not a leap year\n",
    "3. If any of the condition false then that year is not a leap year"
   ]
  },
  {
   "cell_type": "markdown",
   "id": "f333f550-8364-438f-88ca-41b98d078e65",
   "metadata": {},
   "source": [
    "36. Write a program to classify a triangle based on its sides' lengths."
   ]
  },
  {
   "cell_type": "code",
   "execution_count": 59,
   "id": "6640c7b1-b436-491f-907e-a042a475410a",
   "metadata": {},
   "outputs": [],
   "source": [
    "a = 60\n",
    "b = 70\n",
    "c = 60"
   ]
  },
  {
   "cell_type": "code",
   "execution_count": 60,
   "id": "62c6eb15-af7f-466f-8951-0437d3d20aff",
   "metadata": {},
   "outputs": [
    {
     "name": "stdout",
     "output_type": "stream",
     "text": [
      "These triangle isoceles\n"
     ]
    }
   ],
   "source": [
    "if a == b == c:\n",
    "    print('These triangle is quilateral triangle')\n",
    "elif a == b != c or a ==c != b:\n",
    "        print('These triangle isoceles')\n",
    "else:\n",
    "    print('These triangle is scalene')"
   ]
  },
  {
   "cell_type": "markdown",
   "id": "d489d12c-e63c-455c-811f-05ae04b1d2cd",
   "metadata": {},
   "source": [
    "1. Create a variable a, b and c which define the angles of the triangle\n",
    "2. By using conditional statement if all sides are equal in a triangle if these condition true then print these triangle is equilateral triangle\n",
    "3. If any two sides are equal in a triangle if these condition true then these trinagle is isoceles triangle.\n",
    "4. If both the condition false then these triangle are called Scalene"
   ]
  },
  {
   "cell_type": "code",
   "execution_count": 51,
   "id": "d2a81c0e-1f33-40c7-8a64-e0c74944b835",
   "metadata": {},
   "outputs": [],
   "source": [
    "a = 20\n",
    "b = 35\n",
    "c = 23"
   ]
  },
  {
   "cell_type": "code",
   "execution_count": 52,
   "id": "20fa2797-3d4d-4162-b696-6db8a8bbdedd",
   "metadata": {},
   "outputs": [],
   "source": [
    "def largest_number(num1, num2, num3):\n",
    "    if num1 > num2 > num3:\n",
    "        return num1\n",
    "    if num1 < num2 > num3:\n",
    "        return num2\n",
    "    else:\n",
    "        return num3"
   ]
  },
  {
   "cell_type": "code",
   "execution_count": 53,
   "id": "e17ff4a2-2485-4f11-9ac4-4b7598f8e111",
   "metadata": {},
   "outputs": [
    {
     "name": "stdout",
     "output_type": "stream",
     "text": [
      "The largest nuumber is 35\n"
     ]
    }
   ],
   "source": [
    "print(f'The largest nuumber is {largest_number(a, b, c)}')"
   ]
  },
  {
   "cell_type": "markdown",
   "id": "0d378888-c36b-4082-869b-711025a18348",
   "metadata": {},
   "source": [
    "1. Create a varible a, b and c which takes the input from the user\n",
    "2. Create a function called largest_number which takes the three argument\n",
    "3. By using the conditional statement if num1 greater num2 and num3 if these condition true then return num1\n",
    "4. If num2 is greater than num1 and num3 if these condition statisfy then return num2\n",
    "5. If both the condition false then it will return num3"
   ]
  },
  {
   "cell_type": "markdown",
   "id": "a3f3f8cb-0ad9-40f2-9225-1263680f484f",
   "metadata": {},
   "source": [
    "38. Develop a program that checks whether a character is a vowel or a consonant."
   ]
  },
  {
   "cell_type": "code",
   "execution_count": 54,
   "id": "2d1457ee-6e5b-4923-9ac9-65853bb7b09b",
   "metadata": {},
   "outputs": [],
   "source": [
    "def check_vowels_consonants(word):\n",
    "    for i in word:\n",
    "        if i in 'aeiouAEIOU':\n",
    "            print('Vowels')\n",
    "        else:\n",
    "            print('Consonants')"
   ]
  },
  {
   "cell_type": "code",
   "execution_count": 55,
   "id": "84be4068-2c80-4b2b-8c2b-980bbe31295c",
   "metadata": {},
   "outputs": [
    {
     "name": "stdout",
     "output_type": "stream",
     "text": [
      "Consonants\n",
      "Consonants\n",
      "Consonants\n",
      "Consonants\n",
      "Vowels\n",
      "Consonants\n"
     ]
    }
   ],
   "source": [
    "word = 'Python'\n",
    "check_vowels_consonants(word)"
   ]
  },
  {
   "cell_type": "markdown",
   "id": "784230c4-ce13-4607-a6bd-65e67aea3805",
   "metadata": {},
   "source": [
    "1. Create a function called check_vowels_consonants which takes 1 arguments.\n",
    "2. If any character in 'aeiou' then that characters are called vowels else consonants\n",
    "3. Print the result "
   ]
  },
  {
   "cell_type": "markdown",
   "id": "15b27404-1940-4c33-9b75-b806a49242fd",
   "metadata": {},
   "source": [
    "39. Create a program to calculate the total cost of a shopping cart based on discounts."
   ]
  },
  {
   "cell_type": "code",
   "execution_count": 61,
   "id": "8bd74c0c-4e28-4c28-80d1-104fa10da1f6",
   "metadata": {},
   "outputs": [
    {
     "name": "stdin",
     "output_type": "stream",
     "text": [
      "Enter the purchase Amount: $ 100\n"
     ]
    }
   ],
   "source": [
    "amount = int(input('Enter the purchase Amount: $'))"
   ]
  },
  {
   "cell_type": "code",
   "execution_count": 63,
   "id": "8153c6bf-bca4-4b84-8de9-a549ca67b887",
   "metadata": {},
   "outputs": [
    {
     "name": "stdout",
     "output_type": "stream",
     "text": [
      " Apply 20% discount. Your total amount of shopping cart would be $80.0\n"
     ]
    }
   ],
   "source": [
    "if amount <= 50:\n",
    "    print(f\" Apply 5% discount. Your total amount  of shopping cart would be ${amount - (amount * (5/100))}\")\n",
    "elif 50 < amount <= 70:\n",
    "    print(f\" Apply 10% discount. Your total amount of shopping cart would be ${amount - (amount * (10/100))}\")\n",
    "elif 80 <= amount < 90:\n",
    "    print(f\" Apply 15% discount. Your total amount of shopping cart would be ${amount - (amount * (15/100))}\")\n",
    "elif amount > 90:\n",
    "    print(f\" Apply 20% discount. Your total amount of shopping cart would be ${amount - (amount * (20/100))}\")"
   ]
  },
  {
   "cell_type": "markdown",
   "id": "3f26ba79-5b1e-4d92-b28d-308042b37be8",
   "metadata": {},
   "source": [
    "1. Create a variale called amount which they enter from the user\n",
    "2. By using conditional statement if amount is less than 50 dollar then we apply the discount of 5%\n",
    "3. If the amount is greater than 50 dollar or less or equal to 70 dollar then we apply the discount of 10%\n",
    "4. If the amount is greater or equal to 80 dollar or less than 90 dollar then we apply discount of 15%\n",
    "5. If the amount the is greater than 90 dollar than we appply thr discount of 20%"
   ]
  },
  {
   "cell_type": "markdown",
   "id": "3cf94106-f166-41a3-9e7c-3e43562777ba",
   "metadata": {},
   "source": [
    "40. Write a program that checks if a given number is even or odd."
   ]
  },
  {
   "cell_type": "code",
   "execution_count": 64,
   "id": "411a5a52-c5ac-47ac-a477-1e8a1bc0f621",
   "metadata": {},
   "outputs": [
    {
     "name": "stdin",
     "output_type": "stream",
     "text": [
      "Enter the number:  40\n"
     ]
    }
   ],
   "source": [
    "a = int(input('Enter the number: '))"
   ]
  },
  {
   "cell_type": "code",
   "execution_count": 65,
   "id": "05e514de-6e30-4d9f-8baa-fee431ce7aeb",
   "metadata": {},
   "outputs": [
    {
     "name": "stdout",
     "output_type": "stream",
     "text": [
      "The number is even number\n"
     ]
    }
   ],
   "source": [
    "if a % 2 == 0:\n",
    "    print('The number is even number')\n",
    "else:\n",
    "    print('The number is odd number')"
   ]
  },
  {
   "cell_type": "markdown",
   "id": "6c47fbcf-22e4-4a0e-bde1-d8e2a55e2008",
   "metadata": {},
   "source": [
    "1. Create a variable a which takes the input from the user\n",
    "2. By using conditional statement if the number is evenly by 2 then that number is even number otherwise it is an odd number "
   ]
  },
  {
   "cell_type": "markdown",
   "id": "d0c3b745-fa92-49da-a733-9b7d220dfd3c",
   "metadata": {},
   "source": [
    "41. Write a program that calculates the roots of a quadratic equation ."
   ]
  },
  {
   "cell_type": "code",
   "execution_count": 17,
   "id": "70e3ee9a-98f9-45ce-82cc-585dd6cc7d5c",
   "metadata": {},
   "outputs": [],
   "source": [
    "import math\n",
    "a = 2\n",
    "b = -7\n",
    "c = 4"
   ]
  },
  {
   "cell_type": "code",
   "execution_count": 19,
   "id": "02c0921b-8506-4bf4-83c6-e28c968661d2",
   "metadata": {},
   "outputs": [
    {
     "name": "stdout",
     "output_type": "stream",
     "text": [
      "roots of quadratic equation is (8.030776406404415, 5.969223593595585)\n"
     ]
    }
   ],
   "source": [
    "x = 0\n",
    "d = (b ** 2) - (4 *a*c)\n",
    "e = math.sqrt(d)\n",
    "if d == 0:\n",
    "    print('The equation is invalid')\n",
    "elif d !=0:\n",
    "     x = -(b) + e/(2*a), -(b) - e/(2 * a)\n",
    "print(f'roots of quadratic equation is {x}')"
   ]
  },
  {
   "cell_type": "markdown",
   "id": "0e97b195-cf9f-4f43-8538-d60b74670877",
   "metadata": {},
   "source": [
    "1. create a variable a, b and c and takes the input from the user\n",
    "2. Create another variable x which is set them as 0\n",
    "3. By using quadrtactic equation if the ans is 0 then this equation is not valid else we can we can find the quadratic equation by using the formulae\n",
    "4. Print the result"
   ]
  },
  {
   "cell_type": "markdown",
   "id": "27593138-1375-439a-9846-fb7848d5067a",
   "metadata": {},
   "source": [
    "42. Create a program that determines the day of the week based on the day number (1-7)."
   ]
  },
  {
   "cell_type": "code",
   "execution_count": 72,
   "id": "e5fe95cb-845d-4534-a10b-ba92b03b8da0",
   "metadata": {},
   "outputs": [
    {
     "name": "stdin",
     "output_type": "stream",
     "text": [
      "Enter the day:  4\n"
     ]
    }
   ],
   "source": [
    "days = int(input('Enter the day: '))"
   ]
  },
  {
   "cell_type": "code",
   "execution_count": 73,
   "id": "52ae5d9f-aa3d-4063-a487-94877beb0989",
   "metadata": {},
   "outputs": [
    {
     "name": "stdout",
     "output_type": "stream",
     "text": [
      "Thursday\n"
     ]
    }
   ],
   "source": [
    "if days == 1:\n",
    "    print('Monday')\n",
    "elif days == 2:\n",
    "    print('Tuesday')\n",
    "elif days == 3:\n",
    "    print('Wednessday')\n",
    "elif days == 4:\n",
    "    print('Thursday')\n",
    "elif days == 5:\n",
    "    print('Friday')\n",
    "elif days == 6:\n",
    "    print('Saturday')\n",
    "elif days == 7:\n",
    "    print('Sunday')\n",
    "else:\n",
    "    print('You choose the wrong day')"
   ]
  },
  {
   "cell_type": "markdown",
   "id": "cd16f179-7f00-48c0-817e-5b20021cdd34",
   "metadata": {},
   "source": [
    "1. Create a variable a which takes the input from the user \n",
    "2. By using conditional statement if the user enters the number between 1 to 7 if that number condition statisfies then than day will be printed\n",
    "3. If user enter the number more than 7 days then it will printed as you chood the wrong day "
   ]
  },
  {
   "cell_type": "markdown",
   "id": "75bb20fd-a2be-4140-b492-699d0485214b",
   "metadata": {},
   "source": [
    "43. Develop a program that calculates the factorial of a given number using recursion."
   ]
  },
  {
   "cell_type": "code",
   "execution_count": 7,
   "id": "21defa63-ead1-490a-b121-1a2e7a8d1cbf",
   "metadata": {},
   "outputs": [
    {
     "name": "stdin",
     "output_type": "stream",
     "text": [
      "Enter the number:  6\n"
     ]
    }
   ],
   "source": [
    "num = int(input('Enter the number: '))"
   ]
  },
  {
   "cell_type": "code",
   "execution_count": 10,
   "id": "47a7d930-a96b-409f-87b0-59a15cce8bfe",
   "metadata": {},
   "outputs": [],
   "source": [
    "def factorial(num):\n",
    "    if num == 1:\n",
    "        return num\n",
    "    else:\n",
    "        return num * factorial(num -1)"
   ]
  },
  {
   "cell_type": "code",
   "execution_count": 11,
   "id": "ede2c707-9707-4e23-a01b-f452327e204f",
   "metadata": {},
   "outputs": [
    {
     "data": {
      "text/plain": [
       "720"
      ]
     },
     "execution_count": 11,
     "metadata": {},
     "output_type": "execute_result"
    }
   ],
   "source": [
    "factorial(num)"
   ]
  },
  {
   "cell_type": "markdown",
   "id": "839cdcf3-9f63-488f-aa20-d8af828d3d43",
   "metadata": {},
   "source": [
    "1. Create a variable num which takes the input from th user\n",
    "2. Create a function called factorial if user enter 1 then it returns else if user enter other than one than num will be multiply that factorial(num -1)\n",
    "3. The function that repeats itself into its function called recursion\n",
    "4. Print the result "
   ]
  },
  {
   "cell_type": "markdown",
   "id": "83dfa60c-81af-4ede-8770-56f914aea10b",
   "metadata": {},
   "source": [
    "44. Write a program to find the largest among three numbers without using the `max()` function."
   ]
  },
  {
   "cell_type": "code",
   "execution_count": 20,
   "id": "bd14dfca-7290-49a6-b4de-b5aaf2f3ea81",
   "metadata": {},
   "outputs": [],
   "source": [
    "a = 7\n",
    "b = 10\n",
    "c = 20"
   ]
  },
  {
   "cell_type": "code",
   "execution_count": 21,
   "id": "364efcc4-52b2-4587-9386-4dee619121f4",
   "metadata": {},
   "outputs": [],
   "source": [
    "def largest_number(num1, num2, num3):\n",
    "    if num1 > num2 > num3:\n",
    "        return num1\n",
    "    if num1 < num2 > num3:\n",
    "        return num2\n",
    "    else:\n",
    "        return num3"
   ]
  },
  {
   "cell_type": "code",
   "execution_count": 22,
   "id": "3c46a783-3abc-4f35-b311-d59a22b70dc7",
   "metadata": {},
   "outputs": [
    {
     "name": "stdout",
     "output_type": "stream",
     "text": [
      "The largest number is 20\n"
     ]
    }
   ],
   "source": [
    "print(f'The largest number is {largest_number(a, b, c)}')"
   ]
  },
  {
   "cell_type": "markdown",
   "id": "2e61af4e-f35a-4557-8bc2-ff12644c4fff",
   "metadata": {},
   "source": [
    "1. Create a varible a, b and c which takes the input from the user\n",
    "2. Create a function called largest_number which takes the three argument\n",
    "3. By using the conditional statement if num1 greater num2 and num3 if these condition true then return num1\n",
    "4. If num2 is greater than num1 and num3 if these condition statisfy then return num2\n",
    "5. If both the condition false then it will return num3"
   ]
  },
  {
   "cell_type": "markdown",
   "id": "24364ff2-d53b-4ef1-83f1-8635d7b9ad6d",
   "metadata": {},
   "source": [
    "45. Create a program that simulates a basic ATM transaction menu."
   ]
  },
  {
   "cell_type": "code",
   "execution_count": 1,
   "id": "b0907e23-5bd2-41e7-a7ac-8ef61725e2b8",
   "metadata": {},
   "outputs": [],
   "source": [
    "amount = 5000"
   ]
  },
  {
   "cell_type": "code",
   "execution_count": 2,
   "id": "a358c35a-3c2d-4444-87b0-1e00d965a3bf",
   "metadata": {},
   "outputs": [
    {
     "name": "stdin",
     "output_type": "stream",
     "text": [
      "Please insert Your Card:  yes\n",
      "What you want to do? cash withdrawal or check_balance withdrawal\n",
      "Please enter amonut Rs.  500\n"
     ]
    },
    {
     "name": "stdout",
     "output_type": "stream",
     "text": [
      "Your Transaction is completed\n"
     ]
    },
    {
     "name": "stdin",
     "output_type": "stream",
     "text": [
      "Please insert Your Card:  check balance\n",
      "Please insert Your Card:  check balance\n",
      "Please insert Your Card:  yes\n",
      "What you want to do? cash withdrawal or check_balance check balance\n"
     ]
    },
    {
     "name": "stdout",
     "output_type": "stream",
     "text": [
      "Your current balance is 4500\n"
     ]
    },
    {
     "name": "stdin",
     "output_type": "stream",
     "text": [
      "Please insert Your Card:  yes\n",
      "What you want to do? cash withdrawal or check_balance withdrawal\n",
      "Please enter amonut Rs.  5000\n"
     ]
    },
    {
     "name": "stdout",
     "output_type": "stream",
     "text": [
      "The amount you have is insufficient please the check the balance\n"
     ]
    },
    {
     "name": "stdin",
     "output_type": "stream",
     "text": [
      "Please insert Your Card:  no\n"
     ]
    },
    {
     "name": "stdout",
     "output_type": "stream",
     "text": [
      "Bye Bye have a great day\n"
     ]
    }
   ],
   "source": [
    "is_transaction = True\n",
    "while is_transaction:\n",
    "    a = input('Please insert Your Card: ')\n",
    "    if a == 'yes':\n",
    "        b = input('What you want to do? cash withdrawal or check_balance').lower()\n",
    "        if b == 'withdrawal':\n",
    "            c = int(input('Please enter amonut Rs. '))\n",
    "            amount -= c\n",
    "            if amount < c:\n",
    "                print('The amount you have entered is insufficient please the check the balance')\n",
    "            else:\n",
    "                print('Your Transaction is completed')\n",
    "        elif b == 'check balance':\n",
    "            print(f'Your current balance is {amount}')\n",
    "    else:\n",
    "        if a == 'no':\n",
    "            is_transaction = False\n",
    "            print('Bye Bye have a great day')"
   ]
  },
  {
   "cell_type": "markdown",
   "id": "376575ea-6581-4941-8ccd-543036882073",
   "metadata": {},
   "source": [
    "1. Create a variable which user have the total amount\n",
    "2. By using conditional statement if the user insert the card in the atm if yes then it will take another input from the user whether they want to withdraw cash or else they want to check the balance \n",
    "3. If they want to withdraw the cash then they will take another input from the user in integer data type it will substract the amount which have entered by the user from the total amount\n",
    "4. It will check iftotal amount is less than then amount which entered by the user then it will show that the amount you have entered is insufficient please check the balance otherwise print your transaction is completed\n",
    "5. If the user choose to check balance then it will show the balance amount in which user current have.\n",
    "6. By using the while is_transaction == true it will continue looping until and less user doesnt insert the card in the atm "
   ]
  },
  {
   "cell_type": "markdown",
   "id": "73333d7d-629d-49d1-af02-8333fa15a45c",
   "metadata": {},
   "source": [
    "46. Build a program that checks if a given string is a palindrome or not."
   ]
  },
  {
   "cell_type": "code",
   "execution_count": 7,
   "id": "eda9485b-4494-405f-a134-40d944e8b875",
   "metadata": {},
   "outputs": [],
   "source": [
    "a = 'rotator'"
   ]
  },
  {
   "cell_type": "code",
   "execution_count": 8,
   "id": "18fa04b7-5c49-4235-bb95-065e49be0d87",
   "metadata": {},
   "outputs": [
    {
     "name": "stdout",
     "output_type": "stream",
     "text": [
      "These string is palindrome\n"
     ]
    }
   ],
   "source": [
    "if a == a[::-1]:\n",
    "    print('These string is palindrome')\n",
    "else:\n",
    "    print('These string is not palindrome')"
   ]
  },
  {
   "cell_type": "markdown",
   "id": "707128bc-c331-4aaf-b161-563ec9dca6e5",
   "metadata": {},
   "source": [
    "1. Create a variable a which takes the input from the user\n",
    "2. By using conditional statement we are checking if the string inside is equal to reverse string of a then these string is palindrome else these string is not palindrome"
   ]
  },
  {
   "cell_type": "markdown",
   "id": "76ca41f7-2946-4e1a-89b7-66e56875c76d",
   "metadata": {},
   "source": [
    "47. Write a program that calculates the average of a list of numbers, excluding the smallest and largest values."
   ]
  },
  {
   "cell_type": "code",
   "execution_count": 21,
   "id": "64b68c90-4570-45fb-8cd7-8ac0fce0337c",
   "metadata": {},
   "outputs": [],
   "source": [
    "a = [30 , 40, 50 , 60, 70, 90, 100]"
   ]
  },
  {
   "cell_type": "code",
   "execution_count": 22,
   "id": "9bba4dfa-4237-46d5-a174-5f91b5410b79",
   "metadata": {},
   "outputs": [
    {
     "name": "stdout",
     "output_type": "stream",
     "text": [
      "The average of the number is 62.0\n"
     ]
    }
   ],
   "source": [
    "max_num = max(a)\n",
    "min_num = min(a)\n",
    "a.remove(max_num)\n",
    "a.remove(min_num)\n",
    "average_num = 0\n",
    "for i in a:\n",
    "    average_num += i/len(a)\n",
    "print(f'The average of the number is {average_num}')\n",
    "    "
   ]
  },
  {
   "cell_type": "markdown",
   "id": "813c58a1-3780-457b-9891-fcb97ff7232c",
   "metadata": {},
   "source": [
    "1. Create a list of numbers inside the variable a\n",
    "2. we found out the max and min number inside the list and remove from the list\n",
    "3. By using for loop and add all the numbers and divided by the length of the list and store into the variable average_num\n",
    "4. Print the result "
   ]
  },
  {
   "cell_type": "markdown",
   "id": "63e994ea-136d-4424-9594-ec491963ab22",
   "metadata": {},
   "source": [
    "48. Develop a program that converts a given temperature from Celsius to Fahrenheit."
   ]
  },
  {
   "cell_type": "code",
   "execution_count": 1,
   "id": "77fc809f-f775-4709-879b-ff47304639f9",
   "metadata": {},
   "outputs": [],
   "source": [
    "celcius_temperature = [23.9, 25.4, 28.4, 28.1, 27.2, 26.4, 29.8]"
   ]
  },
  {
   "cell_type": "code",
   "execution_count": 3,
   "id": "7f2c1e77-d48f-4124-a506-e70fc4244085",
   "metadata": {},
   "outputs": [
    {
     "name": "stdout",
     "output_type": "stream",
     "text": [
      "The Farhenheit Temeperature is [75.0, 77.7, 83.1, 82.6, 81.0, 79.5, 85.6]\n"
     ]
    }
   ],
   "source": [
    "farhenheit_temperature = []\n",
    "for i in celcius_temperature:\n",
    "    f = i * (9/5) + 32\n",
    "    farhenheit_temperature.append(round(f,1))\n",
    "print(f'The Farhenheit Temeperature is {farhenheit_temperature}')"
   ]
  },
  {
   "cell_type": "markdown",
   "id": "95477e2b-b926-4360-a2c0-3258ad826b16",
   "metadata": {},
   "source": [
    "1. Create a list of celcius temperature inside the celcius_temperature\n",
    "2. Create a empty list inside the variable farhenheit_temperature\n",
    "3. By using for loop in the celcius_temperature list it will iterate all the numbers inside the celcius_temperture and store inside the variable.\n",
    "4. By using conversion formulae for celcius tempture to farhenheit Temperature and convert all the number into farhenheit temperture and store inside the variable f\n",
    "5. We are appending all the converted farhenheit temperature into the list farhenheit_temperature variable and by using round function we round the decimal number only upto 1 number after decimal\n",
    "6. Print the result "
   ]
  },
  {
   "cell_type": "markdown",
   "id": "a6075a3f-e7e2-4b8b-87a4-179150fe8392",
   "metadata": {},
   "source": [
    "49. Create a program that simulates a basic calculator for addition, subtraction, multiplication, and division."
   ]
  },
  {
   "cell_type": "code",
   "execution_count": 4,
   "id": "d556563d-3369-4a21-9d20-f8bb6fe22aa3",
   "metadata": {},
   "outputs": [],
   "source": [
    "def add(a, b):\n",
    "    return a + b\n",
    "def sub(a, b):\n",
    "    return a - b\n",
    "def mul(a, b):\n",
    "    return a * b\n",
    "def div(a, b):\n",
    "    return a // b"
   ]
  },
  {
   "cell_type": "code",
   "execution_count": 18,
   "id": "ffc719e5-cf80-4bfc-8daf-9487d2267144",
   "metadata": {},
   "outputs": [],
   "source": [
    "def calculator():\n",
    "    a = float(input('Enter the first number: '))\n",
    "    action = input(\"What you want to do? '+', '-', '*', '/' \") \n",
    "    b = float(input('Enter the second number: '))\n",
    "    if action == '+':\n",
    "        print(add(a, b))\n",
    "    elif action == '-':\n",
    "        print(sub(a,b))\n",
    "    elif action == '*':\n",
    "        print(mul(a, b))\n",
    "    elif action == '/':\n",
    "        print(div(a, b))"
   ]
  },
  {
   "cell_type": "code",
   "execution_count": 19,
   "id": "12a4a9e7-03f8-48e6-b4a3-8109ff0084ab",
   "metadata": {},
   "outputs": [
    {
     "name": "stdin",
     "output_type": "stream",
     "text": [
      "Enter the first number:  2\n",
      "What you want to do? '+', '-', '*', '/'  +\n",
      "Enter the second number:  33\n"
     ]
    },
    {
     "name": "stdout",
     "output_type": "stream",
     "text": [
      "35.0\n"
     ]
    }
   ],
   "source": [
    "calculator()"
   ]
  },
  {
   "cell_type": "markdown",
   "id": "52fd4256-416e-4c21-9e99-fa98c697da08",
   "metadata": {},
   "source": [
    "1. Create a functions called add, sub, mul and div which takes two arguments in that function\n",
    "2. Create another fucntion called calculator in these calculator function we define a variable called a which takes the input from the user \n",
    "3. Create anohter variable action in this action variable it will take the input from the user what they wanted to do add , sub, div or mul\n",
    "4. Create another variable b in which they take another input from the user\n",
    "5. By using conditional statement if user type '+' they will add the number if user type '-' they will subtract and so on\n",
    "6. Print the result"
   ]
  },
  {
   "cell_type": "markdown",
   "id": "c9c9b27c-c605-49b4-93ab-417112ed9337",
   "metadata": {},
   "source": [
    "50. Write a program that determines the roots of a cubic equation using the Cardano formula."
   ]
  },
  {
   "cell_type": "code",
   "execution_count": 21,
   "id": "fa712864-0c48-461b-8a88-e079fa4425d1",
   "metadata": {},
   "outputs": [],
   "source": [
    "#!pip install cardano_method\n",
    "from cardano_method import CubicEquation"
   ]
  },
  {
   "cell_type": "code",
   "execution_count": 22,
   "id": "ec89c1ff-a348-43cc-a06c-9ada4fd66132",
   "metadata": {},
   "outputs": [],
   "source": [
    "cardano = CubicEquation([1, 2, 3, 4])"
   ]
  },
  {
   "cell_type": "code",
   "execution_count": 24,
   "id": "5e52164b-0788-4918-8f64-a40ddd3c8b22",
   "metadata": {},
   "outputs": [
    {
     "name": "stdout",
     "output_type": "stream",
     "text": [
      "[(-1.650629+0j), (-0.174685+1.546868j), (-0.174685-1.546868j)]\n"
     ]
    }
   ],
   "source": [
    "print(cardano.answers)"
   ]
  },
  {
   "cell_type": "markdown",
   "id": "d361a63e-51a9-475a-b276-f73af56bc61b",
   "metadata": {},
   "source": [
    "1. First we install the library called cardano_method\n",
    "2. From cardano library we import CubicEquation \n",
    "3. Inside the CubicEquation we define a numbers in the form of list\n",
    "4. By using cardano.answer method we will get the result of mentioning equation"
   ]
  },
  {
   "cell_type": "markdown",
   "id": "7dd29119-4250-4ebd-af72-e79358fe8a7a",
   "metadata": {},
   "source": [
    "51. Create a program that calculates the income tax based on the user's income and tax brackets."
   ]
  },
  {
   "cell_type": "code",
   "execution_count": 35,
   "id": "cc7a7ef8-266c-438a-a11f-c62d21ca2c28",
   "metadata": {},
   "outputs": [
    {
     "name": "stdin",
     "output_type": "stream",
     "text": [
      "Enter the income:   800000\n"
     ]
    }
   ],
   "source": [
    "income = int(input(\"Enter the income:  \"))"
   ]
  },
  {
   "cell_type": "code",
   "execution_count": 36,
   "id": "1ed30091-617c-4e0c-95eb-ec90a712dae6",
   "metadata": {},
   "outputs": [
    {
     "name": "stdout",
     "output_type": "stream",
     "text": [
      "you owe 45000.0 Rupees in tax!\n"
     ]
    }
   ],
   "source": [
    "if income <= 250000:\n",
    "    tax = 0\n",
    "elif income <= 500000:\n",
    "    tax = (income - 250000) * 0.05\n",
    "elif income <= 750000:\n",
    "    tax = (income - 500000) * 0.10 + 12500 \n",
    "elif income <= 1000000: \n",
    "    tax = (income - 750000) * 0.15 + 37500 \n",
    "elif income <= 1250000:\n",
    "    tax = (income - 1000000) * 0.20 + 75000 \n",
    "elif income <= 1500000: \n",
    "    tax = (income - 1250000) * 0.25 + 125000 \n",
    "else:\n",
    "    tax = (income - 1500000) * 0.30 + 187500\n",
    "print(\"you owe\", tax, \"Rupees in tax!\") "
   ]
  },
  {
   "cell_type": "markdown",
   "id": "37a6d46f-581c-45fb-b13c-d65bf09ee198",
   "metadata": {},
   "source": [
    "1. Create a variable called income which takes the income from the user\n",
    "2. By using conditional statement if the income is less than or equal to 250000 then there is no income tax will have to give by the user\n",
    "3. If the income is less than or equal to 5 lakhs then the user have to give 5 % tax\n",
    "4. If the income is less than or equal to 7.5 lakhs then the user have to give 10 % tax and so on\n",
    "5. Print the result"
   ]
  },
  {
   "cell_type": "markdown",
   "id": "d086f764-d06b-4105-9e34-1d9ce5f756eb",
   "metadata": {},
   "source": [
    "52. Write a program that simulates a rock-paper-scissors game against the computer."
   ]
  },
  {
   "cell_type": "code",
   "execution_count": 38,
   "id": "7b75a774-227d-43f7-9bcc-f948f50e90f8",
   "metadata": {},
   "outputs": [
    {
     "name": "stdin",
     "output_type": "stream",
     "text": [
      "Please choose between '0' for rock '1' for scissor '2' for paper:  2\n"
     ]
    }
   ],
   "source": [
    "user_input = int(input(\"Please choose between '0' for rock '1' for scissor '2' for paper: \")) "
   ]
  },
  {
   "cell_type": "code",
   "execution_count": 45,
   "id": "70c7db65-e39c-4feb-8b6b-a5524cc2669f",
   "metadata": {},
   "outputs": [],
   "source": [
    "import random\n",
    "computer_choice = random.randint(0,2)"
   ]
  },
  {
   "cell_type": "code",
   "execution_count": 46,
   "id": "ad7d4bc2-009c-4091-8003-14be3a811719",
   "metadata": {},
   "outputs": [
    {
     "name": "stdout",
     "output_type": "stream",
     "text": [
      "Draw\n"
     ]
    }
   ],
   "source": [
    "if user_input == computer_choice:\n",
    "    print('Draw')\n",
    "elif user_input == 0 and computer_choice == 1:\n",
    "    print('You win')\n",
    "elif user_input == 1 and computer_choice == 2:\n",
    "    print('You win')\n",
    "elif user_input == 2 and computer_choice == 0:\n",
    "    print('You win')\n",
    "elif user_input == 1 and computer_choice == 0:\n",
    "    print('Computer Win')\n",
    "elif user_input == 2 and computer_choice == 1:\n",
    "    print('Computer Win')\n",
    "elif user_input == 0 and computer_choice == 2:\n",
    "    print('Computer Win')"
   ]
  },
  {
   "cell_type": "markdown",
   "id": "9478ddf9-aacd-40bf-8c0e-2bc0daee4e39",
   "metadata": {},
   "source": [
    "1. Create a variable called user_input which takes the input from the user\n",
    "2. Importing random module and create another variable called computer_choice the computer will choose the number randomly\n",
    "3. We know the rules of rock, paper and scissor game. The rock beat scissor, the scissor beat paper and paper beat rock.\n",
    "4. These rule will be implemented in the conditional statement if user_input and computer_choice have same number then the game will be draw\n",
    "5. If the user input having rock and computer_choice having scissor then by the rules user wins and vice versa if computer having rock and user having scissor then computer wins\n",
    "6. Print the results "
   ]
  },
  {
   "cell_type": "markdown",
   "id": "4cb1fe7a-fb13-4ee0-9027-b95609990d87",
   "metadata": {},
   "source": [
    "53. Develop a program that generates a random password based on user preferences (length, complexity)."
   ]
  },
  {
   "cell_type": "code",
   "execution_count": 47,
   "id": "cbd7be6f-22cc-4e63-9c11-70de48ecd532",
   "metadata": {},
   "outputs": [],
   "source": [
    "alphabet = ['a', 'b', 'c', 'd', 'e', 'f', 'g', 'h', 'i', 'j', 'k', 'l', 'm', 'n', 'o', 'p', 'q', 'r', 's', 't', \n",
    "            'u', 'v', 'w', 'x', 'y', 'z', 'A', 'B', 'C', 'D', 'E', 'F', 'G', 'H', 'I', 'J', 'K', 'L', 'M', 'N', \n",
    "            'O', 'P', 'Q', 'R', 'S', 'T', 'U', 'V', 'W', 'X' , 'Y', 'Z'] \n",
    "number = ['0', '1', '2', '3', '4', '5', '6', '7', '8', '9']\n",
    "character = ['!', '@', '#', '$', '%', '^', '&', '*']"
   ]
  },
  {
   "cell_type": "code",
   "execution_count": 48,
   "id": "0d91e2e0-5d36-44c3-ba59-2ace4a7c1e6f",
   "metadata": {},
   "outputs": [],
   "source": [
    "import random"
   ]
  },
  {
   "cell_type": "code",
   "execution_count": 54,
   "id": "370cc3cd-9c7e-4bb7-bf6b-f3caab8cac48",
   "metadata": {},
   "outputs": [
    {
     "name": "stdin",
     "output_type": "stream",
     "text": [
      "How many alphabets?:  10\n",
      "How many numbers?:  3\n",
      "How many character?:  7\n"
     ]
    }
   ],
   "source": [
    "user_alphabet = int(input('How many alphabets?: '))\n",
    "user_number = int(input('How many numbers?: '))\n",
    "user_character = int(input('How many character?: '))"
   ]
  },
  {
   "cell_type": "code",
   "execution_count": 61,
   "id": "6a222118-e146-4671-81aa-06ee73a89cbd",
   "metadata": {},
   "outputs": [
    {
     "name": "stdout",
     "output_type": "stream",
     "text": [
      "The password is $#7g%99#go7SAE$g%h$J\n"
     ]
    }
   ],
   "source": [
    "password = ''\n",
    "complex_password= ''\n",
    "for i in range(0,user_alphabet):\n",
    "    password  += random.choice(alphabet)\n",
    "for i in range(0, user_number):\n",
    "    password += random.choice(number)\n",
    "for i in range(user_character):\n",
    "    password += random.choice(character)\n",
    "for i in range(len(password)):\n",
    "    complex_password += random.choice(password)\n",
    "               \n",
    "print(f'The password is {complex_password}')"
   ]
  },
  {
   "cell_type": "markdown",
   "id": "041118ed-3108-410f-9f90-c76d5d674290",
   "metadata": {},
   "source": [
    "1. Create a varaible list of alphabets, numbers and special characters inside the variables alphabet, number and character\n",
    "2. Importing the random module\n",
    "3. By taking the user input on the basis of there requirement how many alphabets they want how many numbers they want and how many special character they want in there password\n",
    "4. Create a two empty strings first is password and second is complex password \n",
    "5. By using for loop in range user_alphabet by using random.choice method the user enter number alphabet they will take at that number of alphabets randomly same goes for number and characters as well\n",
    "6. These all are store into the variable called password\n",
    "7. To increase complexity in password we are using another for loop in the range len(pasword) which we will use again random.choice method and then that password will store into the complex password\n",
    "8. Print the result"
   ]
  },
  {
   "cell_type": "markdown",
   "id": "8fa70f78-65d4-45d1-bbd1-28e0c7d1ad86",
   "metadata": {},
   "source": [
    "24. Create a program that implements a simple text-based adventure game with branching scenarios."
   ]
  },
  {
   "cell_type": "code",
   "execution_count": 4,
   "id": "f99d9df4-bed9-4918-950c-76e83aee577c",
   "metadata": {},
   "outputs": [
    {
     "name": "stdin",
     "output_type": "stream",
     "text": [
      "You are at cross a road.Where do you want to go? Type \"Left\" or Type \"Right\"\n",
      " left\n",
      "You come to a lake.There is an island in the middle of the lake.Type 'wait' for a boat.Type 'swim' to swim across\n",
      " wait\n",
      "You arrive at a island unharmed. There is an house with 3 doors. One Red, One Yellow and one Blue.Which color do you choose\n",
      " yellow\n"
     ]
    },
    {
     "name": "stdout",
     "output_type": "stream",
     "text": [
      "You found the treasure!\n"
     ]
    }
   ],
   "source": [
    "user = input('You are at cross a road.Where do you want to go? Type \"Left\" or Type \"Right\"\\n').lower()\n",
    "if user == 'left':\n",
    "    choice_1 = input(\"You come to a lake.There is an island in the middle of the lake.Type 'wait' for a boat.Type 'swim' to swim across\\n\").lower()\n",
    "    if choice_1 == \"wait\":\n",
    "        choice_2 = input('You arrive at a island unharmed. There is an house with 3 doors. One Red, One Yellow and one Blue.Which color do you choose\\n').lower()\n",
    "        if choice_2 == 'red':\n",
    "            print(\"Burned by fire. Game over\")\n",
    "        elif choice_2 == 'blue':\n",
    "            print('Eaten by Beast. Game over')\n",
    "        elif choice_2 == 'yellow':\n",
    "            print('You found the treasure!')\n",
    "        else:\n",
    "            print('Game Over')\n",
    "    else:\n",
    "        print('Game over')\n",
    "else:\n",
    "    print('Game Over')"
   ]
  },
  {
   "cell_type": "markdown",
   "id": "354045b3-102c-485b-8637-1d8ca28e043b",
   "metadata": {},
   "source": [
    "1. Create variable called user which take the input from the user whether they will go right or left\n",
    "2. If the user go left then there is an anohter choice for the user to swim or wait for the boat.If the user chooses right then it would be game over \n",
    "3. If the user choose wait for the boat then the user will have the choose one door in one of which having  the treasure. If the user chooses to swim then it should be game over.\n",
    "4. If chooses the correct and they found the treasure they win or if they choose the wrong door they will loose"
   ]
  },
  {
   "cell_type": "markdown",
   "id": "0a1b4790-41dd-4cce-97ae-4153aaab2302",
   "metadata": {},
   "source": [
    "55. Build a program that solves a linear equation for x, considering different cases."
   ]
  },
  {
   "cell_type": "code",
   "execution_count": 1,
   "id": "f303895f-bd98-4db3-a97f-f4d9cf23c662",
   "metadata": {},
   "outputs": [],
   "source": [
    "from sympy import symbols, Eq, solve"
   ]
  },
  {
   "cell_type": "code",
   "execution_count": 2,
   "id": "f9716f4f-5612-4164-a2e3-cbaeb35605b3",
   "metadata": {},
   "outputs": [],
   "source": [
    "x, y, z = symbols('x, y, z')"
   ]
  },
  {
   "cell_type": "code",
   "execution_count": 3,
   "id": "322c0971-53da-44bc-bfe6-8a5113dc5aca",
   "metadata": {},
   "outputs": [
    {
     "name": "stdout",
     "output_type": "stream",
     "text": [
      "Equation 1 : Eq(x + y + z, 1)\n",
      "Equation 2 : Eq(x + y + 2*z, 1)\n",
      "Equation 3 : Eq(2*x - y + 2*z, 1)\n"
     ]
    }
   ],
   "source": [
    "eq1 = Eq((x+y+z),1)\n",
    "eq2 = Eq((x+y+2*z),1)\n",
    "eq3 = Eq((2*x-y+2*z),1)\n",
    "print(f'Equation 1 : {eq1}')\n",
    "print(f'Equation 2 : {eq2}')\n",
    "print(f'Equation 3 : {eq3}')"
   ]
  },
  {
   "cell_type": "code",
   "execution_count": 4,
   "id": "9d006a97-100e-41af-8900-69c7a48442ab",
   "metadata": {},
   "outputs": [
    {
     "name": "stdout",
     "output_type": "stream",
     "text": [
      "{x: 2/3, y: 1/3, z: 0}\n"
     ]
    }
   ],
   "source": [
    "print(solve((eq1, eq2, eq3), (x, y, z)))"
   ]
  },
  {
   "cell_type": "markdown",
   "id": "baf861b3-0663-4c7c-9b85-5c99fdf6a934",
   "metadata": {},
   "source": [
    "1. From sympy library we import symbols, EQ and solve\n",
    "2. By using symbols we are creating a symbols of x y and z\n",
    "3. By using EQ we are creating a three linear equation\n",
    "4. BY using solve we are solving three linear equation of different scenarios and print the result"
   ]
  },
  {
   "cell_type": "markdown",
   "id": "d561fd89-16c3-4fbf-b741-507e17305dfe",
   "metadata": {},
   "source": [
    "56. Write a program that simulates a basic quiz game with multiple-choice questions and scoring."
   ]
  },
  {
   "cell_type": "code",
   "execution_count": 8,
   "id": "60fe494d-2d81-4312-a1e8-3809a96195a6",
   "metadata": {},
   "outputs": [],
   "source": [
    "from string import ascii_lowercase\n",
    "QUESTIONS = {\n",
    "    \"When was the first known use of the word 'quiz'\": [\n",
    "        \"1781\", \"1771\", \"1871\", \"1881\"\n",
    "    ],\n",
    "    \"Which built-in function can get information from the user\": [\n",
    "        \"input\", \"get\", \"print\", \"write\"\n",
    "    ],\n",
    "    \"Which keyword do you use to loop over a given list of elements\": [\n",
    "        \"for\", \"while\", \"each\", \"loop\"\n",
    "    ],\n",
    "    \"What's the purpose of the built-in zip() function\": [\n",
    "        \"To iterate over two or more sequences at the same time\",\n",
    "        \"To combine several strings into one\",\n",
    "        \"To compress several files into one archive\",\n",
    "        \"To get information from the user\",\n",
    "    ],\n",
    "}\n"
   ]
  },
  {
   "cell_type": "code",
   "execution_count": 14,
   "id": "8c1ad0cb-1de5-450b-b618-ce30f5a92816",
   "metadata": {},
   "outputs": [
    {
     "name": "stdout",
     "output_type": "stream",
     "text": [
      "\n",
      "Question 1:\n",
      "When was the first known use of the word 'quiz'?\n",
      "  a) 1771\n",
      "  b) 1781\n",
      "  c) 1871\n",
      "  d) 1881\n"
     ]
    },
    {
     "name": "stdin",
     "output_type": "stream",
     "text": [
      "\n",
      "Choice?  1781\n"
     ]
    },
    {
     "name": "stdout",
     "output_type": "stream",
     "text": [
      "Correct!, Current Score = 1\n",
      "\n",
      "Question 2:\n",
      "Which built-in function can get information from the user?\n",
      "  a) get\n",
      "  b) input\n",
      "  c) print\n",
      "  d) write\n"
     ]
    },
    {
     "name": "stdin",
     "output_type": "stream",
     "text": [
      "\n",
      "Choice?  input\n"
     ]
    },
    {
     "name": "stdout",
     "output_type": "stream",
     "text": [
      "Correct!, Current Score = 2\n",
      "\n",
      "Question 3:\n",
      "Which keyword do you use to loop over a given list of elements?\n",
      "  a) each\n",
      "  b) for\n",
      "  c) loop\n",
      "  d) while\n"
     ]
    },
    {
     "name": "stdin",
     "output_type": "stream",
     "text": [
      "\n",
      "Choice?  loop\n"
     ]
    },
    {
     "name": "stdout",
     "output_type": "stream",
     "text": [
      "The answer is for, not loop, Current Score = 2\n",
      "\n",
      "Question 4:\n",
      "What's the purpose of the built-in zip() function?\n",
      "  a) To combine several strings into one\n",
      "  b) To compress several files into one archive\n",
      "  c) To get information from the user\n",
      "  d) To iterate over two or more sequences at the same time\n"
     ]
    },
    {
     "name": "stdin",
     "output_type": "stream",
     "text": [
      "\n",
      "Choice?  to combine several strings into one\n"
     ]
    },
    {
     "name": "stdout",
     "output_type": "stream",
     "text": [
      "The answer is To iterate over two or more sequences at the same time, not to combine several strings into one, Current Score = 2\n"
     ]
    }
   ],
   "source": [
    "score = 0\n",
    "for num, (question, alternatives) in enumerate(QUESTIONS.items(), start=1):\n",
    "    print(f\"\\nQuestion {num}:\")\n",
    "    print(f\"{question}?\")\n",
    "    correct_answer = alternatives[0]\n",
    "    labeled_alternatives = dict(zip(ascii_lowercase, sorted(alternatives)))\n",
    "    for label, alternative in labeled_alternatives.items():\n",
    "        print(f\"  {label}) {alternative}\")\n",
    "\n",
    "    answer_label = input(\"\\nChoice? \")\n",
    "    answer = labeled_alternatives.get(answer_label)\n",
    "    if answer_label == correct_answer:\n",
    "        score += 1\n",
    "        print(f\"Correct!, Current Score = {score}\")\n",
    "    else:\n",
    "        print(f\"The answer is {correct_answer}, not {answer_label}, Current Score = {score}\")\n",
    "\n",
    "   "
   ]
  },
  {
   "cell_type": "markdown",
   "id": "05f27172-47fc-4ff5-8cc7-172f85b42500",
   "metadata": {},
   "source": [
    "1. Create dictionary in variable QUESTIONS in which is Key and Values is list of Answers\n",
    "2. Using For loop in dictionary and using enamurate to the lable the question number.\n",
    "3. In a list all the first element are correct answer in order to confuse the player we are using the sorting function it will sort the function in ascending so the user can't guess it correctly\n",
    "4. If user answer == correct then print the answer is correct score will be added by +1\n",
    "5. It will keep showing the score until the player has given the right answer or the wrong answer"
   ]
  },
  {
   "cell_type": "markdown",
   "id": "78e064c7-7a16-4c63-8894-c7bb0c805fde",
   "metadata": {},
   "source": [
    "57. Develop a program that determines whether a given year is a prime number or not."
   ]
  },
  {
   "cell_type": "code",
   "execution_count": 20,
   "id": "a824617a-22ab-4272-8df8-4df8ad2b362e",
   "metadata": {},
   "outputs": [],
   "source": [
    "def is_prime(num):\n",
    "    if num < 1:\n",
    "        return False\n",
    "    for i in range(2, int(num ** 0.5) + 1):\n",
    "        if num % i == 0:\n",
    "            return False \n",
    "    return True "
   ]
  },
  {
   "cell_type": "code",
   "execution_count": 25,
   "id": "0e4b7c3d-a8c4-42b6-84b4-725804a3e3aa",
   "metadata": {},
   "outputs": [
    {
     "name": "stdin",
     "output_type": "stream",
     "text": [
      "Enter the Year:  2003\n"
     ]
    }
   ],
   "source": [
    "year = int(input('Enter the Year: '))"
   ]
  },
  {
   "cell_type": "code",
   "execution_count": 27,
   "id": "ae93e5a5-2e9a-454f-9e00-2a5e9d4ed50e",
   "metadata": {},
   "outputs": [
    {
     "name": "stdout",
     "output_type": "stream",
     "text": [
      "The year 2003 is a prime year?: True\n"
     ]
    }
   ],
   "source": [
    "print(f'The year {year} is a prime year?: {is_prime(year)}')"
   ]
  },
  {
   "cell_type": "markdown",
   "id": "d58fdf9b-6189-4e8f-8099-97d032617072",
   "metadata": {},
   "source": [
    "1. We create a function called is_prime which takes one argument \n",
    "2. It will check if any given number it will divisible by any number then it will return false if it is not divisible then it is true\n",
    "3. We create another variable which is year whihc they take input from the user \n",
    "4. Then print the result "
   ]
  },
  {
   "cell_type": "markdown",
   "id": "4f7b636d-bcdb-456d-b880-980fc8885eba",
   "metadata": {},
   "source": [
    "58. Create a program that sorts three numbers in ascending order using conditional statements."
   ]
  },
  {
   "cell_type": "code",
   "execution_count": 41,
   "id": "aa71ae70-7f39-4c47-b546-86422fd3d064",
   "metadata": {},
   "outputs": [],
   "source": [
    "a = [30, 20 , 10]"
   ]
  },
  {
   "cell_type": "code",
   "execution_count": 42,
   "id": "3f1cc0d0-3403-47a1-b06a-508bd32c0900",
   "metadata": {},
   "outputs": [],
   "source": [
    "def sorted_list(list_1):\n",
    "    longest_number = 0\n",
    "    second_number = 0\n",
    "    min_number = 0\n",
    "    sorted_list = []\n",
    "    for i in a:\n",
    "        if i > longest_number:\n",
    "            longest_number = i\n",
    "        elif i > second_number < longest_number:\n",
    "            second_number = i\n",
    "        elif i > min_number < second_number:\n",
    "            min_number = i\n",
    "            sorted_list.append(min_number)\n",
    "            sorted_list.append(second_number)\n",
    "            sorted_list.append(longest_number)\n",
    "    print(sorted_list)"
   ]
  },
  {
   "cell_type": "code",
   "execution_count": 43,
   "id": "839858d4-e451-4226-8b78-4ff0f8f0de27",
   "metadata": {},
   "outputs": [
    {
     "name": "stdout",
     "output_type": "stream",
     "text": [
      "[10, 20, 30]\n"
     ]
    }
   ],
   "source": [
    "sorted_list(a)"
   ]
  },
  {
   "cell_type": "markdown",
   "id": "d8da21a8-9858-48bd-b684-2e1ff197d37b",
   "metadata": {},
   "source": [
    "1. Create a list of number inside the variale a \n",
    "2. We create a function called sorted list which takes the one argument\n",
    "3. Inside the sorted list we are using for loop inside the variable a first we find the largest number then we finde the second largest number and then we find the shortes number \n",
    "4. We created empty list called sorted_list inside that list we will append first the shortes number then the second largest number and then the largest number\n",
    "5. Print the result"
   ]
  },
  {
   "cell_type": "markdown",
   "id": "447b848e-74cf-4683-a6ef-a6296aa59619",
   "metadata": {},
   "source": [
    "59. Build a program that determines the roots of a quartic equation using numerical methods."
   ]
  },
  {
   "cell_type": "code",
   "execution_count": 11,
   "id": "ded564df-2b62-43da-adbe-ca5fb744f5ac",
   "metadata": {},
   "outputs": [],
   "source": [
    "import math\n",
    "a = 2\n",
    "b = -7\n",
    "c = 4"
   ]
  },
  {
   "cell_type": "code",
   "execution_count": 16,
   "id": "fa72c88a-17b4-4216-9323-3a9402cd1036",
   "metadata": {},
   "outputs": [
    {
     "name": "stdout",
     "output_type": "stream",
     "text": [
      "roots of quadratic equation is (8.030776406404415, 5.969223593595585)\n"
     ]
    }
   ],
   "source": [
    "x = 0\n",
    "d = (b ** 2) - (4 *a*c)\n",
    "e = math.sqrt(d)\n",
    "if e == 0:\n",
    "    print('The equation is invalid')\n",
    "elif d !=0:\n",
    "     x = -(b) + e/(2*a), -(b) - e/(2 * a)\n",
    "print(f'roots of quadratic equation is {x}')"
   ]
  },
  {
   "cell_type": "markdown",
   "id": "37d34dc9-5271-4f39-af60-4c602012bec8",
   "metadata": {},
   "source": [
    "1. create a variable a, b and c and takes the input from the user\n",
    "2. Create another variable x which is set them as 0\n",
    "3. By using quadrtactic equation if the ans is 0 then this equation is not valid else we can we can find the quadratic equation by using the formulae\n",
    "4. Print the result"
   ]
  },
  {
   "cell_type": "markdown",
   "id": "0a682be6-5fe2-439c-8733-c69860806df1",
   "metadata": {},
   "source": [
    "60. Write a program that calculates the BMI (Body Mass Index) and provides health recommendations based\n",
    "on the user's input."
   ]
  },
  {
   "cell_type": "code",
   "execution_count": 22,
   "id": "727d6ba6-2e8c-4111-a9f1-c7998b039b22",
   "metadata": {},
   "outputs": [
    {
     "name": "stdin",
     "output_type": "stream",
     "text": [
      "Enter your weight kg  70\n",
      "Enter your height cm  1.73\n"
     ]
    }
   ],
   "source": [
    "weight = int(input('Enter your weight kg '))\n",
    "height = float(input('Enter your height cm '))"
   ]
  },
  {
   "cell_type": "code",
   "execution_count": 29,
   "id": "3df70d0f-3d16-4530-a67c-13b3c62fe4bc",
   "metadata": {},
   "outputs": [
    {
     "name": "stdout",
     "output_type": "stream",
     "text": [
      "You are BMI is 23.39\n"
     ]
    }
   ],
   "source": [
    "BMI = round(weight/height ** 2,2)\n",
    "print(f'You are BMI is {BMI}')"
   ]
  },
  {
   "cell_type": "code",
   "execution_count": 28,
   "id": "17dabf32-ab12-4166-b15d-5cedd38d51d8",
   "metadata": {},
   "outputs": [
    {
     "name": "stdout",
     "output_type": "stream",
     "text": [
      "You are having Normal Weight\n"
     ]
    }
   ],
   "source": [
    "if BMI < 18.5:\n",
    "    print('You are underweight')\n",
    "elif 18.5 <= BMI < 25:\n",
    "    print('You are having Normal Weight')\n",
    "elif 25 < BMI < 30:\n",
    "    print('You are Overweight')\n",
    "else:\n",
    "    print('You are Obese')"
   ]
  },
  {
   "cell_type": "markdown",
   "id": "bfc6d498-079d-4eb5-b2a7-6004144cb799",
   "metadata": {},
   "source": [
    "1. Create a variable wight and height which we will take the input from the user\n",
    "2. To calculate BMI we have an formaulae for BMI weight/height **2 \n",
    "3. By using conditional statement if the person is below 18.5 BMI than that person is underwight \n",
    "4. If the person is less than or equal to 18.5 but less than 25 BMI than that person is having Normal Weight\n",
    "5. If the person is having more than 25 BMI but less than 30 BMI than that person is having Overweight\n",
    "6. Else if any of these condition is not true then that person is obese"
   ]
  },
  {
   "cell_type": "markdown",
   "id": "2f49f089-f87f-4f93-9317-5683b4630e79",
   "metadata": {},
   "source": [
    "61. Create a program that validates a password based on complexity rules (length, characters, etc.)."
   ]
  },
  {
   "cell_type": "code",
   "execution_count": 1,
   "id": "2e1fe08b-bfe2-4668-b179-d89f76e1e576",
   "metadata": {},
   "outputs": [],
   "source": [
    "lowercase = ['a', 'b', 'c', 'd', 'e', 'f', 'g', 'h', 'i', 'j', 'k', 'l', 'm', 'n', 'o', 'p', 'q', 'r', 's', 't', \n",
    "            'u', 'v', 'w', 'x', 'y', 'z'] \n",
    "upper_case = ['A', 'B', 'C', 'D', 'E', 'F', 'G', 'H', 'I', 'J', 'K', 'L', 'M', 'N', 'O', 'P', 'Q', 'R', 'S', 'T', \n",
    "              'U', 'V', 'W', 'X' , 'Y', 'Z'] \n",
    "number = ['0', '1', '2', '3', '4', '5', '6', '7', '8', '9']\n",
    "character = ['!', '@', '#', '$', '%', '^', '&', '*']"
   ]
  },
  {
   "cell_type": "code",
   "execution_count": 21,
   "id": "31d63ecc-173e-477d-aca1-4b468c680a90",
   "metadata": {},
   "outputs": [
    {
     "name": "stdin",
     "output_type": "stream",
     "text": [
      "Your Password must 8-12 charcters long having one uppercase character, one lowercase\n",
      " character, one special character:  kazizoheb59\n"
     ]
    }
   ],
   "source": [
    "password = input('Your Password must 8-12 charcters long having one uppercase character, one lowercase\\n character, one special character: ')"
   ]
  },
  {
   "cell_type": "code",
   "execution_count": 19,
   "id": "f8a0f11c-29fb-4a9d-83a8-a91455b890af",
   "metadata": {},
   "outputs": [],
   "source": [
    "def password_validate(word):\n",
    "    count_lower = 0\n",
    "    count_upper = 0\n",
    "    count_number = 0\n",
    "    count_character = 0\n",
    "    if len(password) >= 8:\n",
    "        for i in password:\n",
    "            for j in lowercase:\n",
    "                if i == j:\n",
    "                    count_lower += 1\n",
    "            for k in upper_case:\n",
    "                if i == k:\n",
    "                    count_upper += 1\n",
    "            for l in number:\n",
    "                if i == l:\n",
    "                    count_number += 1\n",
    "            for m in character:\n",
    "                if i == m:\n",
    "                    count_character += 1\n",
    "        if count_lower >= 1 and count_upper >= 1 and count_number >= 1 and count_character >= 1:\n",
    "            return 'Password is Valid'\n",
    "        else:\n",
    "            return 'Password is Invalid'\n",
    "    else:\n",
    "        return 'Password is Invalid'\n",
    "                                    \n",
    "                    "
   ]
  },
  {
   "cell_type": "code",
   "execution_count": 22,
   "id": "642957dc-7463-42f2-ae41-1e8bcf5ffccc",
   "metadata": {},
   "outputs": [
    {
     "data": {
      "text/plain": [
       "'Password is Invalid'"
      ]
     },
     "execution_count": 22,
     "metadata": {},
     "output_type": "execute_result"
    }
   ],
   "source": [
    "password_validate(password)"
   ]
  },
  {
   "cell_type": "markdown",
   "id": "30ab35fa-eba6-42f4-9100-3e91a8f5a819",
   "metadata": {},
   "source": [
    "1. Create a list of alphabets, characters and numbers\n",
    "2. create a varaible called password which takes input from the user and written a message so that user can create a password as per requirement \n",
    "3. Create a function called password_validate inside the password_validate function First we are cheking that if the length of the password is greater than or equal to 8 character or not\n",
    "4. Now we are checking that if the password has lower case characters or not if it is present than will be added into the variable called count_lowercase \n",
    "5. We are checking that if the password has upper case characters or not and so on we will check the numeric character as well as the special character\n",
    "6. Then by using conditional statement that if all counts is greater than 1 or equal to 1 then the user created the password is validate otherwise it is Invalid password"
   ]
  },
  {
   "cell_type": "markdown",
   "id": "d895db4f-2dab-4933-ae03-e3213dcce886",
   "metadata": {},
   "source": [
    "62. Develop a program that performs matrix addition and subtraction based on user input."
   ]
  },
  {
   "cell_type": "code",
   "execution_count": 94,
   "id": "b8a0e245-f25e-4d86-80f3-ff3e550ea274",
   "metadata": {},
   "outputs": [
    {
     "name": "stdin",
     "output_type": "stream",
     "text": [
      "Add or Subtract :  add\n"
     ]
    }
   ],
   "source": [
    "a = [[54, 60, 70],[70, 90, 100]]\n",
    "b = [[40, 33, 59],[60, 60, 42]]\n",
    "user = input('Add or Subtract : ').lower()"
   ]
  },
  {
   "cell_type": "code",
   "execution_count": 100,
   "id": "ddee9438-ac4a-4093-9ae9-ee37e2a026ab",
   "metadata": {},
   "outputs": [
    {
     "name": "stdout",
     "output_type": "stream",
     "text": [
      "Your matrix add answer is [94, 93, 129, 130, 150, 142]\n"
     ]
    }
   ],
   "source": [
    "answer = []\n",
    "for i in range(2):\n",
    "    if user == 'add':\n",
    "        answer.append(a[i][0] + b[i][0])\n",
    "        answer.append(a[i][1] + b[i][1])\n",
    "        answer.append(a[i][2] + b[i][2])\n",
    "    elif user == 'substract':\n",
    "        answer.append(a[i][0] - b[i][0])\n",
    "        answer.append(a[i][1] - b[i][1])\n",
    "        answer.append(a[i][2] - b[i][2])\n",
    "        \n",
    "\n",
    "print(f'Your matrix {user} answer is {answer}')\n",
    "       "
   ]
  },
  {
   "cell_type": "markdown",
   "id": "df2906b9-cafa-48cb-b963-27ac52cf4de5",
   "metadata": {},
   "source": [
    "1. Create a nested list inside the variable a and variable b\n",
    "2. Create a variable user which takes the input from the user\n",
    "3. By using for loop in range(2) if the user type add then it will add the two matix\n",
    "4. If user type substract then it will substract the two matrix\n",
    "5. Print the result "
   ]
  },
  {
   "cell_type": "markdown",
   "id": "5888ef98-c32f-4097-85f1-5396289090a4",
   "metadata": {},
   "source": [
    "63. Write a program that calculates the greatest common divisor (GCD) of two numbers using the Euclidean\n",
    "algorithm."
   ]
  },
  {
   "cell_type": "code",
   "execution_count": 106,
   "id": "0126d711-6eaf-4efb-815b-0d99c69ad3ff",
   "metadata": {},
   "outputs": [
    {
     "name": "stdin",
     "output_type": "stream",
     "text": [
      "What's the first number?  24\n",
      "What's the second number?  54\n"
     ]
    },
    {
     "name": "stdout",
     "output_type": "stream",
     "text": [
      "GCD of 24 and 54 is 6\n"
     ]
    }
   ],
   "source": [
    "a = int(input(\"What's the first number? \"))\n",
    "b = int(input(\"What's the second number? \")) \n",
    "def gcd(a, b):\n",
    "    if (a == 0):\n",
    "        return b\n",
    "    if (b == 0):\n",
    "        return a\n",
    "    if (a == b):\n",
    "        return a\n",
    "    if (a > b):\n",
    "        return gcd(a-b, b)\n",
    "    return gcd(a, b-a)\n",
    "if(gcd(a, b)):\n",
    "    print('GCD of', a, 'and', b, 'is', gcd(a, b))\n",
    "else:\n",
    "    print('not found')"
   ]
  },
  {
   "cell_type": "markdown",
   "id": "2c15b8d9-0508-4e17-8b47-627405832103",
   "metadata": {},
   "source": [
    "1. Create a variable a which takes the input from the user in integer\n",
    "2. Create another variable in which take another input from user in interger\n",
    "3. Create function gcd which takes the two agruments \n",
    "4. By using euclidean algorithm we are finding the gcd of two numbers\n",
    "5. By using conditional statement if the two numbers have gcd using euclidean method than it will print the result\n",
    "6. Otherwise it will print not found"
   ]
  },
  {
   "cell_type": "markdown",
   "id": "fecd2e81-5e85-4b37-a3ce-5b7da2764e3a",
   "metadata": {},
   "source": [
    "64. Build a program that performs matrix multiplication using nested loops and conditional statements."
   ]
  },
  {
   "cell_type": "code",
   "execution_count": 122,
   "id": "73f95306-7996-42ce-bd35-dc766fcb9998",
   "metadata": {},
   "outputs": [],
   "source": [
    "a = [[2, 4, 8],\n",
    "     [6, 9, 10]]\n",
    "b = [[12, 10, 1],\n",
    "     [5, 15, 20]]\n",
    "result = [[0, 0, 0],\n",
    "     [0, 0, 0]]"
   ]
  },
  {
   "cell_type": "code",
   "execution_count": 123,
   "id": "38aa5ac9-d084-4c6f-a49f-55bf91e270d2",
   "metadata": {},
   "outputs": [
    {
     "name": "stdout",
     "output_type": "stream",
     "text": [
      "[44, 80, 82]\n",
      "[117, 195, 186]\n"
     ]
    }
   ],
   "source": [
    "for i in range(len(a)):\n",
    "    for j in range(len(b[0])):\n",
    "        for k in range(len(b)):\n",
    "            result[i][j] += a[i][k] * b[k][j]\n",
    "for r in result:\n",
    "    print(r)\n",
    "\n",
    "        "
   ]
  },
  {
   "cell_type": "markdown",
   "id": "00bdc34a-5b28-4711-ba85-e0a8d2f2bb29",
   "metadata": {},
   "source": [
    "1. Create a 3 by 2 matrix in variable a and varaibale b\n",
    "2. Create a variable result \n",
    "3. By using the for loops we are multiplying the two matrix with each other\n",
    "4. Prin teh result"
   ]
  },
  {
   "cell_type": "markdown",
   "id": "c7568561-9689-4e39-82ba-41ad3a2bfb9f",
   "metadata": {},
   "source": [
    "65. Create a program that simulates a basic text-based tic-tac-toe game against the computer."
   ]
  },
  {
   "cell_type": "code",
   "execution_count": 23,
   "id": "2f85d4c7-494e-4e62-b2ad-b6aed564df1b",
   "metadata": {},
   "outputs": [],
   "source": [
    "import random\n",
    "tic_tac = [[' ', ' ', ' '],\n",
    "           [' ', ' ', ' '],\n",
    "           [' ', ' ', ' ']]"
   ]
  },
  {
   "cell_type": "code",
   "execution_count": 21,
   "id": "e5c72757-e321-44ae-87b7-545ebe595269",
   "metadata": {},
   "outputs": [],
   "source": [
    "def tic_tac_toe():\n",
    "    game = True\n",
    "    for i in tic_tac:\n",
    "        print(i)\n",
    "    while game:\n",
    "        user = input('Please enter the number from 1 to 9 to place your x: ')\n",
    "        computer_choice = random.randint(0,2)\n",
    "        random_number = random.randint(0,2)\n",
    "        for i in range(len(tic_tac)):\n",
    "            if tic_tac[i][i] == 'x':\n",
    "                tic_tac[i][i] = 'x'\n",
    "            elif tic_tac[i][i] == 'o':\n",
    "                 tic_tac[i][i] = 'o'\n",
    "                    \n",
    "            if user == '1':\n",
    "                tic_tac[0][0] = 'x'\n",
    "                tic_tac[random_number][computer_choice] = 'o'\n",
    "            elif user == '2':\n",
    "                tic_tac[0][1] = 'x'\n",
    "                tic_tac[random_number][computer_choice] = 'o'\n",
    "            elif user == '3':\n",
    "                tic_tac[0][2] = 'x'\n",
    "                tic_tac[random_number][computer_choice] = 'o'\n",
    "            elif user == '4':\n",
    "                tic_tac[1][0] = 'x'\n",
    "                tic_tac[random_number][computer_choice] = 'o'\n",
    "            elif user == '5':\n",
    "                tic_tac[1][1] = 'x'\n",
    "                tic_tac[random_number][computer_choice] = 'o'\n",
    "            elif user == '6':\n",
    "                tic_tac[1][2] = 'x'\n",
    "                tic_tac[1][computer_choice] = 'o'\n",
    "            elif user == '7':\n",
    "                tic_tac[2][0] = 'x'\n",
    "                tic_tac[random_number][computer_choice] = 'o'\n",
    "            elif user == '8':\n",
    "                tic_tac[2][1] = 'x'\n",
    "                tic_tac[random_number][computer_choice] = 'o'\n",
    "            elif user == '9':\n",
    "                tic_tac[2][2] = 'x'\n",
    "                tic_tac[random_number][computer_choice] = 'o'\n",
    "            \n",
    "        \n",
    "        for i in tic_tac:\n",
    "            print(i)\n",
    "        \n",
    "        # User Wining Probablity\n",
    "        if tic_tac[0][0] == 'x' and tic_tac[0][1] == 'x' and tic_tac[0][2] == 'x':\n",
    "            game = False\n",
    "            return 'User win'\n",
    "        elif tic_tac[1][0] == 'x' and tic_tac[1][1] == 'x' and tic_tac[1][2] == 'x':\n",
    "            game = False\n",
    "            return 'User win' \n",
    "        elif tic_tac[2][0] == 'x' and tic_tac[2][1] == 'x' and tic_tac[2][2] == 'x':\n",
    "            game = False\n",
    "            return 'User win'\n",
    "        elif tic_tac[0][0] == 'x' and tic_tac[1][0] == 'x' and tic_tac[2][0] == 'x':\n",
    "            game = False\n",
    "            return 'User win'\n",
    "        elif tic_tac[0][1] == 'x' and tic_tac[1][1] == 'x' and tic_tac[2][1] == 'x':\n",
    "            game = False\n",
    "            return 'User win'\n",
    "        elif tic_tac[0][2] == 'x' and tic_tac[1][2] == 'x' and tic_tac[2][2] == 'x':\n",
    "            game = False\n",
    "            return 'User win'\n",
    "        elif tic_tac[0][0] == 'x' and tic_tac[1][1] == 'x' and tic_tac[2][2] == 'x':\n",
    "            game = False\n",
    "            return 'User win'\n",
    "        elif tic_tac[0][2] == 'x' and tic_tac[1][1] == 'x' and tic_tac[2][1] == 'x':\n",
    "            game = False\n",
    "            return 'User win'\n",
    "            \n",
    "        # Computer Wining Probablity\n",
    "        if tic_tac[0][0] == 'o' and tic_tac[0][1] == 'o' and tic_tac[0][2] == 'o':\n",
    "            game = False\n",
    "            return 'Computer win'\n",
    "        elif tic_tac[1][0] == 'o' and tic_tac[1][1] == 'o' and tic_tac[1][2] == 'o':\n",
    "            game = False\n",
    "            return 'Computer win'\n",
    "        elif tic_tac[2][0] == 'o' and tic_tac[2][1] == 'o' and tic_tac[2][2] == 'o':\n",
    "            game = False\n",
    "            return 'Computer win'\n",
    "        elif tic_tac[0][0] == 'o' and tic_tac[1][0] == 'o' and tic_tac[2][0] == 'o':\n",
    "            game = False\n",
    "            return 'Computer win'\n",
    "        elif tic_tac[0][1] == 'o' and tic_tac[1][1] == 'o' and tic_tac[2][1] == 'o':\n",
    "            game = False\n",
    "            return 'Computer win'\n",
    "        elif tic_tac[0][2] == 'o' and tic_tac[1][2] == 'x' and tic_tac[2][2] == 'o':\n",
    "            game = False\n",
    "            return 'Computer win'\n",
    "        elif tic_tac[0][0] == 'o' and tic_tac[1][1] == 'o' and tic_tac[2][2] == 'o':\n",
    "            game = False\n",
    "            return 'Computer win'\n",
    "        elif tic_tac[0][2] == 'o' and tic_tac[1][1] == 'o' and tic_tac[2][1] == 'o':\n",
    "            game = False\n",
    "            return 'Computer win'   "
   ]
  },
  {
   "cell_type": "code",
   "execution_count": 24,
   "id": "31565be5-c6fe-45fc-adfb-19bbe1d83e7e",
   "metadata": {},
   "outputs": [
    {
     "name": "stdout",
     "output_type": "stream",
     "text": [
      "[' ', ' ', ' ']\n",
      "[' ', ' ', ' ']\n",
      "[' ', ' ', ' ']\n"
     ]
    },
    {
     "name": "stdin",
     "output_type": "stream",
     "text": [
      "Please enter the number from 1 to 9 to place your x:  9\n"
     ]
    },
    {
     "name": "stdout",
     "output_type": "stream",
     "text": [
      "[' ', ' ', ' ']\n",
      "[' ', ' ', ' ']\n",
      "[' ', 'o', 'x']\n"
     ]
    },
    {
     "name": "stdin",
     "output_type": "stream",
     "text": [
      "Please enter the number from 1 to 9 to place your x:  1\n"
     ]
    },
    {
     "name": "stdout",
     "output_type": "stream",
     "text": [
      "['x', ' ', ' ']\n",
      "[' ', ' ', ' ']\n",
      "['o', 'o', 'x']\n"
     ]
    },
    {
     "name": "stdin",
     "output_type": "stream",
     "text": [
      "Please enter the number from 1 to 9 to place your x:  5\n"
     ]
    },
    {
     "name": "stdout",
     "output_type": "stream",
     "text": [
      "['x', 'o', ' ']\n",
      "[' ', 'x', ' ']\n",
      "['o', 'o', 'x']\n"
     ]
    },
    {
     "data": {
      "text/plain": [
       "'User win'"
      ]
     },
     "execution_count": 24,
     "metadata": {},
     "output_type": "execute_result"
    }
   ],
   "source": [
    "tic_tac_toe()"
   ]
  },
  {
   "cell_type": "markdown",
   "id": "4e15f9f5-36fd-4d78-ad33-01b0186ff9c2",
   "metadata": {},
   "source": [
    "1. Create nested list of empty strings inside the variable tic tac\n",
    "2. Create a function called tic_tac toe \n",
    "3. We create a user based functionality in user variable user have to enter the number from 1 to 9 position and the user is always x\n",
    "4. After choosing and creating a 'x' then we have created computer function in which after every position choses to create x by the user then the computer will have to choose the position 'o' at random position\n",
    "5. By rules of 'x' and 'o' we are created winer based on the situation and position of x and y\n",
    "6. Play the tic_tac_toe by calling the function tic_tac and toe"
   ]
  },
  {
   "cell_type": "markdown",
   "id": "6ff78f1f-7744-4186-9371-2cb7a13accb1",
   "metadata": {},
   "source": [
    "66. Write a program that generates Fibonacci numbers up to a specified term using iterative methods."
   ]
  },
  {
   "cell_type": "code",
   "execution_count": 27,
   "id": "d85df025-06be-4707-9063-b2663e4fff0b",
   "metadata": {},
   "outputs": [],
   "source": [
    "def iterative_method(length): \n",
    "    first = 0\n",
    "    second = 1\n",
    "    print(first, second, end=\" \")\n",
    "    length -= 2\n",
    "    while length > 0:\n",
    "        print(first + second, end=\" \")\n",
    "        temp = second\n",
    "        second = first + second\n",
    "        first = temp\n",
    "        length -= 1\n"
   ]
  },
  {
   "cell_type": "code",
   "execution_count": 28,
   "id": "4bad8988-4211-42fa-8fbf-67799f727f6b",
   "metadata": {},
   "outputs": [
    {
     "name": "stdout",
     "output_type": "stream",
     "text": [
      "0 1 1 2 3 5 8 "
     ]
    }
   ],
   "source": [
    "iterative_method(7)"
   ]
  },
  {
   "cell_type": "markdown",
   "id": "d52d1705-e672-49ac-9aaf-c7a40856f915",
   "metadata": {},
   "source": [
    "1. Create a function iterative_method which takes one argunment\n",
    "2. Inside the function we define first_number and second and print that number\n",
    "3. By using while loop in the while loop if the length is greater than 0 then we will adding the number \n",
    "4. Print the result "
   ]
  },
  {
   "cell_type": "markdown",
   "id": "f2a18b57-e5f4-488e-baea-03a07db59ce8",
   "metadata": {},
   "source": [
    "67. Develop a program that calculates the nth term of the Fibonacci sequence using memoization."
   ]
  },
  {
   "cell_type": "code",
   "execution_count": 3,
   "id": "ad463683-c0f3-4acb-995e-a3b2c7969061",
   "metadata": {},
   "outputs": [
    {
     "data": {
      "text/plain": [
       "[0, 1, 1, 2, 3, 5, 8]"
      ]
     },
     "execution_count": 3,
     "metadata": {},
     "output_type": "execute_result"
    }
   ],
   "source": [
    "fibonacci_sequence = {0: 0, 1: 1}\n",
    "\n",
    "def memoitization_method(n):\n",
    "    if n in fibonacci_sequence:  \n",
    "        return fibonacci_sequence[n]\n",
    "    fibonacci_sequence[n] = memoitization_method(n - 1) + memoitization_method(n - 2) \n",
    "    return fibonacci_sequence[n]\n",
    "\n",
    "[memoitization_method(n) for n in range(7)]"
   ]
  },
  {
   "cell_type": "markdown",
   "id": "bb1b88b3-2fd3-4f60-b982-4519725731cb",
   "metadata": {},
   "source": [
    "1. We are creating a dictionary inside the variable fibonacci sequence\n",
    "2. Creating a function memoitization_method which takes one argument \n",
    "3. In memoitization function if any number is present in the dictionary then it will be return that number as it is\n",
    "4. By using the recursion method we are adding the sequence of next fibonacci number and return that sequence\n",
    "5. By using list comprehension we are printing the 7 numbers of fibonacci sequence"
   ]
  },
  {
   "cell_type": "markdown",
   "id": "c59a880d-e756-4ee7-969b-4cf3647ad9ba",
   "metadata": {},
   "source": [
    "38. Create a program that generates a calendar for a given month and year using conditional statements."
   ]
  },
  {
   "cell_type": "code",
   "execution_count": 32,
   "id": "26776cf0-af3e-41ca-9cef-38c7cc2a0681",
   "metadata": {},
   "outputs": [
    {
     "name": "stdin",
     "output_type": "stream",
     "text": [
      "Enter the month:  february\n",
      "Enter the year:  2000\n"
     ]
    }
   ],
   "source": [
    "month = input('Enter the month: ')\n",
    "year = int(input('Enter the year: '))"
   ]
  },
  {
   "cell_type": "code",
   "execution_count": 34,
   "id": "8e2158bf-a648-4e16-bee2-40665d38d899",
   "metadata": {},
   "outputs": [
    {
     "name": "stdout",
     "output_type": "stream",
     "text": [
      "1\n",
      "2\n",
      "3\n",
      "4\n",
      "5\n",
      "6\n",
      "7\n",
      "8\n",
      "9\n",
      "10\n",
      "11\n",
      "12\n",
      "13\n",
      "14\n",
      "15\n",
      "16\n",
      "17\n",
      "18\n",
      "19\n",
      "20\n",
      "21\n",
      "22\n",
      "23\n",
      "24\n",
      "25\n",
      "26\n",
      "27\n",
      "28\n",
      "29\n"
     ]
    }
   ],
   "source": [
    "def leap_year(year):\n",
    "    if year % 4 == 0 and year % 400 == 0:\n",
    "        return True\n",
    "    else:\n",
    "        return False\n",
    "if leap_year(year):\n",
    "    if month == 'february':\n",
    "        for i in range(1, 30):\n",
    "            print(i)\n",
    "else:\n",
    "    if month == 'january':\n",
    "        for i in range(1, 32):\n",
    "            print(i)\n",
    "    elif month == 'february':\n",
    "        for i in range(1, 29):\n",
    "            print(i)\n",
    "    elif month == 'february':\n",
    "        for i in range(1, 29):\n",
    "            print(i)\n",
    "    elif month == 'march':\n",
    "        for i in range(1, 32):\n",
    "            print(i)\n",
    "    elif month == 'april':\n",
    "        for i in range(1, 31):\n",
    "            print(i)\n",
    "    elif month == 'may':\n",
    "        for i in range(1, 32):\n",
    "            print(i)\n",
    "    elif month == 'june':\n",
    "        for i in range(1, 31):\n",
    "            print(i)\n",
    "    elif month == 'july':\n",
    "        for i in range(1, 32):\n",
    "            print(i)\n",
    "    elif month == 'august':\n",
    "        for i in range(1, 32):\n",
    "            print(i)\n",
    "    elif month == 'september':\n",
    "        for i in range(1, 30):\n",
    "            print(i)\n",
    "    elif month == 'october':\n",
    "        for i in range(1, 31):\n",
    "            print(i)\n",
    "    elif month == 'november':\n",
    "        for i in range(1, 30):\n",
    "            print(i)\n",
    "    elif month == 'december':\n",
    "        for i in range(1, 31):\n",
    "            print(i)"
   ]
  },
  {
   "cell_type": "markdown",
   "id": "db32a984-406d-419f-a435-bfde0bb19366",
   "metadata": {},
   "source": [
    "1. Create variable month and year which takes the input from the user \n",
    "2. First we check that if the year is an leap year and also user type month February then that month will be of 29 days\n",
    "3. Other wise user another and that year is not a leap year then the days of the month will be printed as it is.\n",
    "4. Print the result "
   ]
  },
  {
   "cell_type": "markdown",
   "id": "fd6d8365-5cae-4aae-b401-9d96808487a3",
   "metadata": {},
   "source": [
    "69. Build a program that simulates a basic text-based blackjack game against the computer."
   ]
  },
  {
   "cell_type": "code",
   "execution_count": 42,
   "id": "001e5ada-0252-4ac5-a8ec-3158c0907a7e",
   "metadata": {},
   "outputs": [
    {
     "name": "stdout",
     "output_type": "stream",
     "text": [
      "Your cards:[7, 10],Current Score:17\n",
      "Computer first Card: 3\n"
     ]
    },
    {
     "name": "stdin",
     "output_type": "stream",
     "text": [
      "Draw another card? Type 'y' to draw and type 'n' to stand\n",
      " n\n"
     ]
    },
    {
     "name": "stdout",
     "output_type": "stream",
     "text": [
      "Your Final Hand:[7, 10],Final_Score:17\n",
      "Computer Final hand:[3, 4],Final_score:7\n",
      "Computer Final hand:[3, 4, 5],Final_score:12\n",
      "Computer Final hand:[3, 4, 5, 10],Final_score:22\n",
      "Opponent went over. You win\n"
     ]
    }
   ],
   "source": [
    "import random\n",
    "def blackjack():\n",
    "    cards = [11, 2, 3, 4, 5, 6, 7, 8, 9, 10, 10, 10, 10]\n",
    "    def deal_card(card):\n",
    "        random_card = random.choice(card)\n",
    "        return random_card\n",
    "    user_cards = []\n",
    "    computer_cards = []\n",
    "    user_cards.append(deal_card(cards))\n",
    "    user_cards.append(deal_card(cards))\n",
    "    user = user_cards\n",
    "    computer_cards.append(deal_card(cards))\n",
    "    computer = computer_cards\n",
    "    def calculate_score(cards):\n",
    "        user_sum = sum(cards)\n",
    "        if 11 in cards and user_sum > 21:\n",
    "            cards.remove(11)\n",
    "            cards.append(1) \n",
    "        return user_sum\n",
    "    def computer_draw():\n",
    "        while calculate_score(computer)<17:\n",
    "            computer.append(deal_card(cards))\n",
    "            print(f\"Computer Final hand:{computer},Final_score:{calculate_score(computer)}\")\n",
    "    def compare():\n",
    "        if calculate_score(user) == 21:\n",
    "            print(\"It's a Blackjack for You. You win\")\n",
    "        elif calculate_score(computer) == 21:\n",
    "            print(\"It's a blackjack for Opponent.You lose\")\n",
    "        elif calculate_score(user)>21:\n",
    "            print('You went over Opponent. You lose')\n",
    "        elif calculate_score(computer)>21:\n",
    "            print(\"Opponent went over. You win\")\n",
    "        elif calculate_score(user) > calculate_score(computer):\n",
    "            print(\"You have an upper hand. You win\")\n",
    "        elif calculate_score(user) < calculate_score(computer):\n",
    "            print(\"Oppenent has an upper hand. You lose\")\n",
    "        elif calculate_score(user) == calculate_score(computer):\n",
    "            print(\"Draw\")\n",
    "    game_ends = True\n",
    "    while game_ends:\n",
    "        print(f\"Your cards:{user},Current Score:{calculate_score(user)}\")\n",
    "        print(f\"Computer first Card: {computer[0]}\")\n",
    "        if calculate_score(user) == 21 or calculate_score(computer) == 21:\n",
    "            game_ends = False\n",
    "            print(f\"Your Final Hand:{user},Final_Score:{calculate_score(user)}\")\n",
    "            computer_draw()\n",
    "            compare()\n",
    "        elif calculate_score(user) > 21:\n",
    "            game_ends = False\n",
    "            print(f\"Your Final Hand:{user},Final_Score:{calculate_score(user)}\")\n",
    "            computer_draw()\n",
    "            compare()\n",
    "        elif calculate_score(user) < 21:\n",
    "            game_ends = True\n",
    "            user_draw = input(\"Draw another card? Type 'y' to draw and type 'n' to stand\\n\").lower()\n",
    "        if user_draw == 'y':\n",
    "            user.append(deal_card(cards))\n",
    "            game_ends = True\n",
    "        if sum(user) > 21:\n",
    "            game_ends = False\n",
    "            print(f\"Your Final Hand:{user},Final_Score:{calculate_score(user)}\")\n",
    "            computer_draw()\n",
    "            compare()\n",
    "        elif sum(user)<21:\n",
    "            game_ends = True\n",
    "        elif sum(user) == 21:\n",
    "            game_ends = False\n",
    "            print(f\"Your Final Hand:{user},Final_Score:{calculate_score(user)}\")\n",
    "            computer_draw()\n",
    "            compare()\n",
    "        if user_draw == 'n':\n",
    "            game_ends = False\n",
    "            print(f\"Your Final Hand:{user},Final_Score:{calculate_score(user)}\")\n",
    "            computer_draw()\n",
    "            compare()\n",
    "    \n",
    "blackjack()\n",
    "\n"
   ]
  },
  {
   "cell_type": "markdown",
   "id": "20401741-8f2c-4ea6-ab7d-1f81e9c15bd3",
   "metadata": {},
   "source": [
    "1. Create a function called black jack\n",
    "2. Create a variable cards which is having a list of cards where 11 is the ace King is 10 Queen is 10 and jack is 10\n",
    "3. Import random module and we create another fucntion called deal of cards it will randomly select the card give it to the user and also the computer\n",
    "4. Create another function called calculate_sore if the sum of user card is more than 21 than if we recieve the card ace in the first hand then it will be replaced by 1 instead of 11\n",
    "5. Create another function called computer if the sum of computer cards is less than 17 then the computer has to keep draw the cards until and unless it is less than 17\n",
    "7. Also We are hiding the computers card so that user will not know the sum of computer cards until and unless user will stop to take another card or else it went over to 21 \n",
    "8. If the user stop to take another card. Then it is now turns the computer to play and if the sum of computer cards is greater than user cards and also computer got black jack then the computer is the winer\n",
    "9. Other wise if the computer went over or sum of computer cards is less than user cards and sum of user cards has a blackjack which is equal to 21 then the user won the game "
   ]
  },
  {
   "cell_type": "markdown",
   "id": "7e201f6c-2739-478a-9017-0751a01db048",
   "metadata": {},
   "source": [
    "70. Write a program that generates the prime factors of a given number using trial division."
   ]
  },
  {
   "cell_type": "code",
   "execution_count": 46,
   "id": "db75e6a7-6458-4710-af99-8466c856e9ae",
   "metadata": {},
   "outputs": [],
   "source": [
    "def trial_division(n): \n",
    "    a = [] \n",
    "    while n % 2 == 0: \n",
    "        a.append(2) \n",
    "        n //= 2 \n",
    "    f = 3 \n",
    "    while f * f <= n: \n",
    "        if n % f == 0: \n",
    "            a.append(f) \n",
    "            n //= f \n",
    "        else: \n",
    "            f += 2 \n",
    "    if n != 1: \n",
    "        a.append(n) \n",
    "    return a "
   ]
  },
  {
   "cell_type": "code",
   "execution_count": 45,
   "id": "d12491da-de78-4433-8b87-6730d52696bb",
   "metadata": {},
   "outputs": [
    {
     "data": {
      "text/plain": [
       "[11]"
      ]
     },
     "execution_count": 45,
     "metadata": {},
     "output_type": "execute_result"
    }
   ],
   "source": [
    "trial_division(11)"
   ]
  },
  {
   "cell_type": "markdown",
   "id": "2810f425-01c5-4d28-b358-653bb475e9a4",
   "metadata": {},
   "source": [
    "1. Create a function called trial_division in which they take one argument\n",
    "2. Inside the function create another variable called which is an empty list\n",
    "3. By using trial division algorithm we are calcultin the prime factors\n",
    "4. Print the result"
   ]
  },
  {
   "cell_type": "code",
   "execution_count": null,
   "id": "92f29890-a6fc-4df0-ae2d-e31f1b4aa652",
   "metadata": {},
   "outputs": [],
   "source": []
  }
 ],
 "metadata": {
  "kernelspec": {
   "display_name": "Python 3 (ipykernel)",
   "language": "python",
   "name": "python3"
  },
  "language_info": {
   "codemirror_mode": {
    "name": "ipython",
    "version": 3
   },
   "file_extension": ".py",
   "mimetype": "text/x-python",
   "name": "python",
   "nbconvert_exporter": "python",
   "pygments_lexer": "ipython3",
   "version": "3.10.8"
  }
 },
 "nbformat": 4,
 "nbformat_minor": 5
}
